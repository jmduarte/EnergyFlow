{
 "cells": [
  {
   "cell_type": "code",
   "execution_count": 1,
   "metadata": {},
   "outputs": [],
   "source": [
    "import numpy as np\n",
    "import math\n",
    "%matplotlib inline\n",
    "import matplotlib.pyplot as plt\n",
    "\n",
    "import energyflow as ef"
   ]
  },
  {
   "cell_type": "code",
   "execution_count": 2,
   "metadata": {},
   "outputs": [],
   "source": [
    "plt.rcParams['figure.figsize'] = (4,4)\n",
    "plt.rcParams['figure.dpi'] = 120\n",
    "plt.rcParams['font.family'] = 'serif'"
   ]
  },
  {
   "cell_type": "code",
   "execution_count": 3,
   "metadata": {},
   "outputs": [
    {
     "name": "stdout",
     "output_type": "stream",
     "text": [
      "Processing...\n",
      "Done!\n"
     ]
    }
   ],
   "source": [
    "from graph_data import GraphDataset\n",
    "gdata = GraphDataset(root='/home/jovyan/.energyflow/datasets/')"
   ]
  },
  {
   "cell_type": "code",
   "execution_count": 4,
   "metadata": {},
   "outputs": [
    {
     "name": "stdout",
     "output_type": "stream",
     "text": [
      "tensor([[5.0082, 4.9424]])\n",
      "tensor([[2.2362]])\n",
      "tensor([[ 0,  0,  0,  ..., 17, 17, 17],\n",
      "        [18, 19, 20,  ..., 76, 77, 78]])\n",
      "tensor(1.)\n"
     ]
    },
    {
     "data": {
      "text/plain": [
       "10000"
      ]
     },
     "execution_count": 4,
     "metadata": {},
     "output_type": "execute_result"
    }
   ],
   "source": [
    "print(gdata[5].u)\n",
    "print(gdata[5].y)\n",
    "print(gdata[5].edge_index)\n",
    "print(sum(gdata[5].x[0:18,0]))\n",
    "len(gdata)"
   ]
  },
  {
   "cell_type": "code",
   "execution_count": 5,
   "metadata": {},
   "outputs": [],
   "source": [
    "import torch\n",
    "import torch.nn as nn\n",
    "import torch.nn.functional as F\n",
    "import torch_geometric.transforms as T\n",
    "from torch_geometric.nn import EdgeConv, global_mean_pool\n",
    "from torch_scatter import scatter_mean\n",
    "\n",
    "class EdgeNet(nn.Module):\n",
    "    def __init__(self, input_dim=3, big_dim=32, bigger_dim=128, global_dim=2, output_dim=1, aggr='mean'):\n",
    "        super(EdgeNet, self).__init__()\n",
    "        convnn = nn.Sequential(nn.Linear(2*(input_dim), big_dim),\n",
    "                               nn.ReLU(),\n",
    "                               nn.Linear(big_dim, big_dim),\n",
    "                               nn.ReLU(),\n",
    "                               nn.Linear(big_dim, big_dim),\n",
    "                               nn.ReLU(),\n",
    "        )\n",
    "        \n",
    "        \n",
    "        #self.batchnorm = nn.BatchNorm1d(input_dim)\n",
    "        \n",
    "        #self.batchnormglobal = nn.BatchNorm1d(global_dim)\n",
    "        \n",
    "        \n",
    "        self.outnn = nn.Sequential(nn.Linear(big_dim+global_dim, bigger_dim),\n",
    "                                   nn.ReLU(),\n",
    "                                   nn.Linear(bigger_dim, bigger_dim),\n",
    "                                   nn.ReLU(),\n",
    "                                   nn.Linear(bigger_dim, output_dim)\n",
    "        )\n",
    "        \n",
    "        self.conv = EdgeConv(nn=convnn,aggr=aggr)\n",
    "\n",
    "    def forward(self, data):\n",
    "        #data.x = self.batchnorm(data.x)\n",
    "        data.x = self.conv(data.x,data.edge_index)\n",
    "        #u1 = self.batchnormglobal(data.u)\n",
    "        u2 = scatter_mean(data.x, data.batch, dim=0)\n",
    "        data.u = torch.cat([data.u, u2],dim=-1)\n",
    "        return self.outnn(data.u)"
   ]
  },
  {
   "cell_type": "code",
   "execution_count": 8,
   "metadata": {},
   "outputs": [
    {
     "name": "stdout",
     "output_type": "stream",
     "text": [
      "[ 8000  9000 10000]\n"
     ]
    }
   ],
   "source": [
    "input_dim = 3\n",
    "big_dim = 32\n",
    "bigger_dim = 128\n",
    "global_dim = 2\n",
    "output_dim = 1\n",
    "fulllen = len(gdata)\n",
    "tv_frac = 0.10\n",
    "tv_num = math.ceil(fulllen*tv_frac)\n",
    "splits = np.cumsum([fulllen-2*tv_num,tv_num,tv_num])\n",
    "batch_size = 128\n",
    "lr = 0.001\n",
    "device = 'cuda:0'\n",
    "model_fname = 'EdgeNet'\n",
    "\n",
    "model = EdgeNet(input_dim=input_dim, big_dim=big_dim, bigger_dim=bigger_dim, \n",
    "                global_dim=global_dim, output_dim=output_dim).to(device)\n",
    "optimizer = torch.optim.Adam(model.parameters(), lr = lr)\n",
    "print(splits)"
   ]
  },
  {
   "cell_type": "code",
   "execution_count": 11,
   "metadata": {},
   "outputs": [
    {
     "name": "stdout",
     "output_type": "stream",
     "text": [
      "8000\n",
      "1000\n",
      "1000\n"
     ]
    }
   ],
   "source": [
    "from torch_geometric.data import Data, DataLoader\n",
    "from torch.utils.data import random_split\n",
    "train_dataset, valid_dataset, test_dataset = random_split(gdata, [fulllen-2*tv_num,tv_num,tv_num])\n",
    "\n",
    "train_loader = DataLoader(train_dataset, batch_size=batch_size, pin_memory=True, shuffle=True)\n",
    "valid_loader = DataLoader(valid_dataset, batch_size=batch_size, pin_memory=True, shuffle=False)\n",
    "test_loader = DataLoader(test_dataset, batch_size=batch_size, pin_memory=True, shuffle=False)\n",
    "\n",
    "train_samples = len(train_dataset)\n",
    "valid_samples = len(valid_dataset)\n",
    "test_samples = len(test_dataset)\n",
    "\n",
    "print(train_samples)\n",
    "print(valid_samples)\n",
    "print(test_samples)\n"
   ]
  },
  {
   "cell_type": "code",
   "execution_count": null,
   "metadata": {},
   "outputs": [],
   "source": [
    "import tqdm\n",
    "@torch.no_grad()\n",
    "def test(model,loader,total,batch_size):\n",
    "    model.eval()\n",
    "    \n",
    "    mse = nn.MSELoss(reduction='mean')\n",
    "\n",
    "    sum_loss = 0.\n",
    "    t = tqdm.tqdm(enumerate(loader),total=total/batch_size)\n",
    "    for i,data in t:\n",
    "        data = data.to(device)\n",
    "        batch_output = model(data)\n",
    "        batch_loss_item = mse(batch_output, data.y).item()\n",
    "        sum_loss += batch_loss_item\n",
    "        t.set_description(\"loss = %.5f\" % (batch_loss_item))\n",
    "        t.refresh() # to show immediately the update\n",
    "\n",
    "    return sum_loss/(i+1)\n",
    "\n",
    "def train(model, optimizer, loader, total, batch_size):\n",
    "    model.train()\n",
    "    \n",
    "    mse = nn.MSELoss(reduction='mean')\n",
    "\n",
    "    sum_loss = 0.\n",
    "    t = tqdm.tqdm(enumerate(loader),total=total/batch_size)\n",
    "    for i,data in t:\n",
    "        data = data.to(device)\n",
    "        optimizer.zero_grad()\n",
    "        batch_output = model(data)\n",
    "        batch_loss = mse(batch_output, data.y)\n",
    "        batch_loss.backward()\n",
    "        batch_loss_item = batch_loss.item()\n",
    "        t.set_description(\"loss = %.5f\" % batch_loss_item)\n",
    "        t.refresh() # to show immediately the update\n",
    "        sum_loss += batch_loss_item\n",
    "        optimizer.step()\n",
    "    \n",
    "    return sum_loss/(i+1)"
   ]
  },
  {
   "cell_type": "code",
   "execution_count": null,
   "metadata": {},
   "outputs": [],
   "source": [
    "import os.path as osp\n",
    "\n",
    "n_epochs = 3\n",
    "patience = 10\n",
    "stale_epochs = 0\n",
    "best_valid_loss = 99999\n",
    "for epoch in range(0, n_epochs):\n",
    "    loss = train(model, optimizer, train_loader, train_samples, batch_size)\n",
    "    valid_loss = test(model, valid_loader, valid_samples, batch_size)\n",
    "    print('Epoch: {:02d}, Training Loss:   {:.4f}'.format(epoch, loss))\n",
    "    print('               Validation Loss: {:.4f}'.format(valid_loss))\n",
    "\n",
    "    if valid_loss < best_valid_loss:\n",
    "        best_valid_loss = valid_loss\n",
    "        modpath = osp.join('/home/jovyan/work/EnergyFlow/demos/',model_fname+'.best.pth')\n",
    "        print('New best model saved to:',modpath)\n",
    "        torch.save(model.state_dict(),modpath)\n",
    "        stale_epochs = 0\n",
    "    else:\n",
    "        print('Stale epoch')\n",
    "        stale_epochs += 1\n",
    "    if stale_epochs >= patience:\n",
    "        print('Early stopping after %i stale epochs'%patience)\n",
    "        break"
   ]
  },
  {
   "cell_type": "code",
   "execution_count": null,
   "metadata": {},
   "outputs": [],
   "source": [
    "model.load_state_dict(torch.load(modpath))\n",
    "ys = []\n",
    "preds = []\n",
    "diffs = []\n",
    "\n",
    "from graph_data import ONE_HUNDRED_GEV\n",
    "\n",
    "t = tqdm.tqdm(enumerate(test_loader),total=test_samples/batch_size)\n",
    "for i, data in t:\n",
    "    data.to(device)\n",
    "    ys.append(data.y.cpu().numpy().squeeze()*ONE_HUNDRED_GEV)\n",
    "    preds.append(model(data).cpu().detach().numpy().squeeze()*ONE_HUNDRED_GEV)\n",
    "    \n",
    "ys = np.concatenate(ys)   \n",
    "preds = np.concatenate(preds)   \n",
    "diffs = (preds-ys)"
   ]
  },
  {
   "cell_type": "code",
   "execution_count": null,
   "metadata": {},
   "outputs": [],
   "source": [
    "fig, ax = plt.subplots(figsize =(5, 5)) \n",
    "plt.hist(ys, bins=np.linspace(0, 300, 101),label='True', alpha=0.5)\n",
    "plt.hist(preds, bins=np.linspace(0, 300, 101),label = 'Pred.', alpha=0.5)\n",
    "plt.legend()\n",
    "ax.set_xlabel('EMD [GeV]') \n",
    "\n",
    "fig, ax = plt.subplots(figsize =(5, 5)) \n",
    "plt.hist(diffs, bins=np.linspace(-200, 200, 101))\n",
    "ax.set_xlabel('EMD diff. [GeV]')  \n",
    "\n",
    "fig, ax = plt.subplots(figsize =(5, 5)) \n",
    "x_bins = np.linspace(0, 300, 101)\n",
    "y_bins = np.linspace(0, 300, 101)\n",
    "plt.hist2d(ys, preds, bins=[x_bins,y_bins])\n",
    "ax.set_xlabel('True EMD [GeV]')  \n",
    "ax.set_ylabel('Pred. EMD [GeV]') "
   ]
  },
  {
   "cell_type": "code",
   "execution_count": null,
   "metadata": {},
   "outputs": [],
   "source": []
  }
 ],
 "metadata": {
  "kernelspec": {
   "display_name": "Python 3",
   "language": "python",
   "name": "python3"
  },
  "language_info": {
   "codemirror_mode": {
    "name": "ipython",
    "version": 3
   },
   "file_extension": ".py",
   "mimetype": "text/x-python",
   "name": "python",
   "nbconvert_exporter": "python",
   "pygments_lexer": "ipython3",
   "version": "3.7.6"
  }
 },
 "nbformat": 4,
 "nbformat_minor": 2
}
