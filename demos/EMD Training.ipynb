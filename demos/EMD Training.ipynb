{
 "cells": [
  {
   "cell_type": "code",
   "execution_count": 1,
   "metadata": {},
   "outputs": [],
   "source": [
    "import numpy as np\n",
    "import math\n",
    "%matplotlib inline\n",
    "import matplotlib.pyplot as plt\n",
    "\n",
    "import energyflow as ef\n",
    "import torch\n",
    "import torch.nn as nn"
   ]
  },
  {
   "cell_type": "code",
   "execution_count": 2,
   "metadata": {},
   "outputs": [],
   "source": [
    "plt.rcParams['figure.figsize'] = (4,4)\n",
    "plt.rcParams['figure.dpi'] = 120\n",
    "plt.rcParams['font.family'] = 'serif'"
   ]
  },
  {
   "cell_type": "code",
   "execution_count": 3,
   "metadata": {},
   "outputs": [
    {
     "name": "stdout",
     "output_type": "stream",
     "text": [
      "Processing...\n",
      "Downloading QG_jets.npz from https://www.dropbox.com/s/fclsl7pukcpobsb/QG_jets.npz?dl=1 to /home/jovyan/.energyflow/datasets/raw/datasets\n",
      "Done!\n"
     ]
    }
   ],
   "source": [
    "from graph_data import GraphDataset\n",
    "gdata = GraphDataset(root='/home/jovyan/.energyflow/datasets/')"
   ]
  },
  {
   "cell_type": "code",
   "execution_count": 4,
   "metadata": {},
   "outputs": [
    {
     "name": "stdout",
     "output_type": "stream",
     "text": [
      "tensor([[5.0082, 4.9424]])\n",
      "tensor([[2.2362]])\n",
      "tensor([[ 0,  0,  0,  ..., 17, 17, 17],\n",
      "        [18, 19, 20,  ..., 76, 77, 78]])\n",
      "tensor(1.)\n"
     ]
    },
    {
     "data": {
      "text/plain": [
       "10000"
      ]
     },
     "execution_count": 4,
     "metadata": {},
     "output_type": "execute_result"
    }
   ],
   "source": [
    "print(gdata[5].u)\n",
    "print(gdata[5].y)\n",
    "print(gdata[5].edge_index)\n",
    "print(sum(gdata[5].x[0:18,0]))\n",
    "len(gdata)"
   ]
  },
  {
   "cell_type": "code",
   "execution_count": 5,
   "metadata": {},
   "outputs": [],
   "source": [
    "from models import DynamicEdgeNet, EdgeNet"
   ]
  },
  {
   "cell_type": "code",
   "execution_count": 6,
   "metadata": {},
   "outputs": [],
   "source": [
    "input_dim = 3\n",
    "big_dim = 32\n",
    "bigger_dim = 128\n",
    "global_dim = 2\n",
    "output_dim = 1\n",
    "fulllen = len(gdata)\n",
    "tv_frac = 0.10\n",
    "tv_num = math.ceil(fulllen*tv_frac)\n",
    "batch_size = 128\n",
    "lr = 0.001\n",
    "device = 'cuda:0'\n",
    "model_fname = 'DynamicEdgeNet'\n",
    "\n",
    "model = DynamicEdgeNet(input_dim=input_dim, big_dim=big_dim, bigger_dim=bigger_dim, \n",
    "                global_dim=global_dim, output_dim=output_dim).to(device)\n",
    "optimizer = torch.optim.Adam(model.parameters(), lr = lr)"
   ]
  },
  {
   "cell_type": "code",
   "execution_count": 7,
   "metadata": {},
   "outputs": [
    {
     "name": "stdout",
     "output_type": "stream",
     "text": [
      "8000\n",
      "1000\n",
      "1000\n"
     ]
    }
   ],
   "source": [
    "from torch_geometric.data import Data, DataLoader\n",
    "from torch.utils.data import random_split\n",
    "train_dataset, valid_dataset, test_dataset = random_split(gdata, [fulllen-2*tv_num,tv_num,tv_num])\n",
    "\n",
    "train_loader = DataLoader(train_dataset, batch_size=batch_size, pin_memory=True, shuffle=True)\n",
    "valid_loader = DataLoader(valid_dataset, batch_size=batch_size, pin_memory=True, shuffle=False)\n",
    "test_loader = DataLoader(test_dataset, batch_size=batch_size, pin_memory=True, shuffle=False)\n",
    "\n",
    "train_samples = len(train_dataset)\n",
    "valid_samples = len(valid_dataset)\n",
    "test_samples = len(test_dataset)\n",
    "\n",
    "print(train_samples)\n",
    "print(valid_samples)\n",
    "print(test_samples)\n"
   ]
  },
  {
   "cell_type": "code",
   "execution_count": 8,
   "metadata": {},
   "outputs": [],
   "source": [
    "import tqdm\n",
    "@torch.no_grad()\n",
    "def test(model,loader,total,batch_size):\n",
    "    model.eval()\n",
    "    \n",
    "    mse = nn.MSELoss(reduction='mean')\n",
    "\n",
    "    sum_loss = 0.\n",
    "    t = tqdm.tqdm(enumerate(loader),total=total/batch_size)\n",
    "    for i,data in t:\n",
    "        data = data.to(device)\n",
    "        batch_output = model(data)\n",
    "        batch_loss_item = mse(batch_output, data.y).item()\n",
    "        sum_loss += batch_loss_item\n",
    "        t.set_description(\"loss = %.5f\" % (batch_loss_item))\n",
    "        t.refresh() # to show immediately the update\n",
    "\n",
    "    return sum_loss/(i+1)\n",
    "\n",
    "def train(model, optimizer, loader, total, batch_size):\n",
    "    model.train()\n",
    "    \n",
    "    mse = nn.MSELoss(reduction='mean')\n",
    "\n",
    "    sum_loss = 0.\n",
    "    t = tqdm.tqdm(enumerate(loader),total=total/batch_size)\n",
    "    for i,data in t:\n",
    "        data = data.to(device)\n",
    "        optimizer.zero_grad()\n",
    "        batch_output = model(data)\n",
    "        batch_loss = mse(batch_output, data.y)\n",
    "        batch_loss.backward()\n",
    "        batch_loss_item = batch_loss.item()\n",
    "        t.set_description(\"loss = %.5f\" % batch_loss_item)\n",
    "        t.refresh() # to show immediately the update\n",
    "        sum_loss += batch_loss_item\n",
    "        optimizer.step()\n",
    "    \n",
    "    return sum_loss/(i+1)"
   ]
  },
  {
   "cell_type": "code",
   "execution_count": 9,
   "metadata": {},
   "outputs": [
    {
     "name": "stderr",
     "output_type": "stream",
     "text": [
      "loss = 0.19037: : 63it [00:43,  1.45it/s]                        \n",
      "loss = 0.26907:  90%|████████▉ | 7/7.8125 [00:05<00:00,  1.46it/s]/opt/conda/lib/python3.7/site-packages/tqdm/std.py:521: TqdmWarning: clamping frac to range [0, 1]\n",
      "  colour=colour)\n",
      "loss = 0.26907: 102%|██████████| 8/7.8125 [00:05<00:00,  1.50it/s]\n",
      "  0%|          | 0/62.5 [00:00<?, ?it/s]"
     ]
    },
    {
     "name": "stdout",
     "output_type": "stream",
     "text": [
      "Epoch: 00, Training Loss:   0.4163\n",
      "               Validation Loss: 0.2802\n",
      "New best model saved to: /home/jovyan/work/EnergyFlow/demos/DynamicEdgeNet.best.pth\n"
     ]
    },
    {
     "name": "stderr",
     "output_type": "stream",
     "text": [
      "loss = 0.16295: : 63it [00:43,  1.44it/s]                        \n",
      "loss = 0.14249: 102%|██████████| 8/7.8125 [00:05<00:00,  1.47it/s]\n",
      "  0%|          | 0/62.5 [00:00<?, ?it/s]"
     ]
    },
    {
     "name": "stdout",
     "output_type": "stream",
     "text": [
      "Epoch: 01, Training Loss:   0.2177\n",
      "               Validation Loss: 0.1469\n",
      "New best model saved to: /home/jovyan/work/EnergyFlow/demos/DynamicEdgeNet.best.pth\n"
     ]
    },
    {
     "name": "stderr",
     "output_type": "stream",
     "text": [
      "loss = 0.08025: : 63it [00:43,  1.45it/s]                        \n",
      "loss = 0.11425: 102%|██████████| 8/7.8125 [00:05<00:00,  1.51it/s]\n",
      "  0%|          | 0/62.5 [00:00<?, ?it/s]"
     ]
    },
    {
     "name": "stdout",
     "output_type": "stream",
     "text": [
      "Epoch: 02, Training Loss:   0.1173\n",
      "               Validation Loss: 0.0976\n",
      "New best model saved to: /home/jovyan/work/EnergyFlow/demos/DynamicEdgeNet.best.pth\n"
     ]
    },
    {
     "name": "stderr",
     "output_type": "stream",
     "text": [
      "loss = 0.12440: : 63it [00:43,  1.46it/s]                        \n",
      "loss = 0.10871: 102%|██████████| 8/7.8125 [00:05<00:00,  1.49it/s]\n",
      "  0%|          | 0/62.5 [00:00<?, ?it/s]"
     ]
    },
    {
     "name": "stdout",
     "output_type": "stream",
     "text": [
      "Epoch: 03, Training Loss:   0.0998\n",
      "               Validation Loss: 0.0907\n",
      "New best model saved to: /home/jovyan/work/EnergyFlow/demos/DynamicEdgeNet.best.pth\n"
     ]
    },
    {
     "name": "stderr",
     "output_type": "stream",
     "text": [
      "loss = 0.06855: : 63it [00:43,  1.45it/s]                        \n",
      "loss = 0.10628: 102%|██████████| 8/7.8125 [00:05<00:00,  1.49it/s]\n",
      "  0%|          | 0/62.5 [00:00<?, ?it/s]"
     ]
    },
    {
     "name": "stdout",
     "output_type": "stream",
     "text": [
      "Epoch: 04, Training Loss:   0.0906\n",
      "               Validation Loss: 0.0856\n",
      "New best model saved to: /home/jovyan/work/EnergyFlow/demos/DynamicEdgeNet.best.pth\n"
     ]
    },
    {
     "name": "stderr",
     "output_type": "stream",
     "text": [
      "loss = 0.04558: : 63it [00:43,  1.46it/s]                        \n",
      "loss = 0.10391: 102%|██████████| 8/7.8125 [00:05<00:00,  1.49it/s]\n",
      "  0%|          | 0/62.5 [00:00<?, ?it/s]"
     ]
    },
    {
     "name": "stdout",
     "output_type": "stream",
     "text": [
      "Epoch: 05, Training Loss:   0.0847\n",
      "               Validation Loss: 0.0801\n",
      "New best model saved to: /home/jovyan/work/EnergyFlow/demos/DynamicEdgeNet.best.pth\n"
     ]
    },
    {
     "name": "stderr",
     "output_type": "stream",
     "text": [
      "loss = 0.11476: : 63it [00:43,  1.44it/s]                        \n",
      "loss = 0.09638: 102%|██████████| 8/7.8125 [00:05<00:00,  1.49it/s]\n",
      "  0%|          | 0/62.5 [00:00<?, ?it/s]"
     ]
    },
    {
     "name": "stdout",
     "output_type": "stream",
     "text": [
      "Epoch: 06, Training Loss:   0.0793\n",
      "               Validation Loss: 0.0732\n",
      "New best model saved to: /home/jovyan/work/EnergyFlow/demos/DynamicEdgeNet.best.pth\n"
     ]
    },
    {
     "name": "stderr",
     "output_type": "stream",
     "text": [
      "loss = 0.06339: : 63it [00:43,  1.45it/s]                        \n",
      "loss = 0.09701: 102%|██████████| 8/7.8125 [00:05<00:00,  1.49it/s]\n",
      "  0%|          | 0/62.5 [00:00<?, ?it/s]"
     ]
    },
    {
     "name": "stdout",
     "output_type": "stream",
     "text": [
      "Epoch: 07, Training Loss:   0.0747\n",
      "               Validation Loss: 0.0711\n",
      "New best model saved to: /home/jovyan/work/EnergyFlow/demos/DynamicEdgeNet.best.pth\n"
     ]
    },
    {
     "name": "stderr",
     "output_type": "stream",
     "text": [
      "loss = 0.06744: : 63it [00:43,  1.44it/s]                        \n",
      "loss = 0.09882: 102%|██████████| 8/7.8125 [00:05<00:00,  1.49it/s]\n",
      "  0%|          | 0/62.5 [00:00<?, ?it/s]"
     ]
    },
    {
     "name": "stdout",
     "output_type": "stream",
     "text": [
      "Epoch: 08, Training Loss:   0.0719\n",
      "               Validation Loss: 0.0711\n",
      "Stale epoch\n"
     ]
    },
    {
     "name": "stderr",
     "output_type": "stream",
     "text": [
      "loss = 0.12004: : 63it [00:43,  1.44it/s]                        \n",
      "loss = 0.08622: 102%|██████████| 8/7.8125 [00:05<00:00,  1.50it/s]\n",
      "  0%|          | 0/62.5 [00:00<?, ?it/s]"
     ]
    },
    {
     "name": "stdout",
     "output_type": "stream",
     "text": [
      "Epoch: 09, Training Loss:   0.0659\n",
      "               Validation Loss: 0.0618\n",
      "New best model saved to: /home/jovyan/work/EnergyFlow/demos/DynamicEdgeNet.best.pth\n"
     ]
    },
    {
     "name": "stderr",
     "output_type": "stream",
     "text": [
      "loss = 0.06982: : 63it [00:43,  1.45it/s]                        \n",
      "loss = 0.07736: 102%|██████████| 8/7.8125 [00:05<00:00,  1.51it/s]\n",
      "  0%|          | 0/62.5 [00:00<?, ?it/s]"
     ]
    },
    {
     "name": "stdout",
     "output_type": "stream",
     "text": [
      "Epoch: 10, Training Loss:   0.0596\n",
      "               Validation Loss: 0.0557\n",
      "New best model saved to: /home/jovyan/work/EnergyFlow/demos/DynamicEdgeNet.best.pth\n"
     ]
    },
    {
     "name": "stderr",
     "output_type": "stream",
     "text": [
      "loss = 0.08709: : 63it [00:43,  1.45it/s]                        \n",
      "loss = 0.07103: 102%|██████████| 8/7.8125 [00:05<00:00,  1.51it/s]\n",
      "  0%|          | 0/62.5 [00:00<?, ?it/s]"
     ]
    },
    {
     "name": "stdout",
     "output_type": "stream",
     "text": [
      "Epoch: 11, Training Loss:   0.0550\n",
      "               Validation Loss: 0.0541\n",
      "New best model saved to: /home/jovyan/work/EnergyFlow/demos/DynamicEdgeNet.best.pth\n"
     ]
    },
    {
     "name": "stderr",
     "output_type": "stream",
     "text": [
      "loss = 0.04702: : 63it [00:43,  1.46it/s]                        \n",
      "loss = 0.07027: 102%|██████████| 8/7.8125 [00:05<00:00,  1.51it/s]\n",
      "  0%|          | 0/62.5 [00:00<?, ?it/s]"
     ]
    },
    {
     "name": "stdout",
     "output_type": "stream",
     "text": [
      "Epoch: 12, Training Loss:   0.0514\n",
      "               Validation Loss: 0.0516\n",
      "New best model saved to: /home/jovyan/work/EnergyFlow/demos/DynamicEdgeNet.best.pth\n"
     ]
    },
    {
     "name": "stderr",
     "output_type": "stream",
     "text": [
      "loss = 0.02993: : 63it [00:43,  1.45it/s]                        \n",
      "loss = 0.06499: 102%|██████████| 8/7.8125 [00:05<00:00,  1.50it/s]\n",
      "  0%|          | 0/62.5 [00:00<?, ?it/s]"
     ]
    },
    {
     "name": "stdout",
     "output_type": "stream",
     "text": [
      "Epoch: 13, Training Loss:   0.0498\n",
      "               Validation Loss: 0.0458\n",
      "New best model saved to: /home/jovyan/work/EnergyFlow/demos/DynamicEdgeNet.best.pth\n"
     ]
    },
    {
     "name": "stderr",
     "output_type": "stream",
     "text": [
      "loss = 0.05519: : 63it [00:43,  1.45it/s]                        \n",
      "loss = 0.07042: 102%|██████████| 8/7.8125 [00:05<00:00,  1.50it/s]\n",
      "  0%|          | 0/62.5 [00:00<?, ?it/s]"
     ]
    },
    {
     "name": "stdout",
     "output_type": "stream",
     "text": [
      "Epoch: 14, Training Loss:   0.0496\n",
      "               Validation Loss: 0.0505\n",
      "Stale epoch\n"
     ]
    },
    {
     "name": "stderr",
     "output_type": "stream",
     "text": [
      "loss = 0.03224: : 63it [00:43,  1.45it/s]                        \n",
      "loss = 0.06023: 102%|██████████| 8/7.8125 [00:05<00:00,  1.50it/s]\n",
      "  0%|          | 0/62.5 [00:00<?, ?it/s]"
     ]
    },
    {
     "name": "stdout",
     "output_type": "stream",
     "text": [
      "Epoch: 15, Training Loss:   0.0471\n",
      "               Validation Loss: 0.0426\n",
      "New best model saved to: /home/jovyan/work/EnergyFlow/demos/DynamicEdgeNet.best.pth\n"
     ]
    },
    {
     "name": "stderr",
     "output_type": "stream",
     "text": [
      "loss = 0.02747: : 63it [00:43,  1.45it/s]                        \n",
      "loss = 0.06649: 102%|██████████| 8/7.8125 [00:05<00:00,  1.50it/s]\n",
      "  0%|          | 0/62.5 [00:00<?, ?it/s]"
     ]
    },
    {
     "name": "stdout",
     "output_type": "stream",
     "text": [
      "Epoch: 16, Training Loss:   0.0454\n",
      "               Validation Loss: 0.0478\n",
      "Stale epoch\n"
     ]
    },
    {
     "name": "stderr",
     "output_type": "stream",
     "text": [
      "loss = 0.08863: : 63it [00:43,  1.45it/s]                        \n",
      "loss = 0.05750: 102%|██████████| 8/7.8125 [00:05<00:00,  1.49it/s]\n",
      "  0%|          | 0/62.5 [00:00<?, ?it/s]"
     ]
    },
    {
     "name": "stdout",
     "output_type": "stream",
     "text": [
      "Epoch: 17, Training Loss:   0.0460\n",
      "               Validation Loss: 0.0427\n",
      "Stale epoch\n"
     ]
    },
    {
     "name": "stderr",
     "output_type": "stream",
     "text": [
      "loss = 0.05601: : 63it [00:43,  1.46it/s]                        \n",
      "loss = 0.05559: 102%|██████████| 8/7.8125 [00:05<00:00,  1.49it/s]\n",
      "  0%|          | 0/62.5 [00:00<?, ?it/s]"
     ]
    },
    {
     "name": "stdout",
     "output_type": "stream",
     "text": [
      "Epoch: 18, Training Loss:   0.0450\n",
      "               Validation Loss: 0.0400\n",
      "New best model saved to: /home/jovyan/work/EnergyFlow/demos/DynamicEdgeNet.best.pth\n"
     ]
    },
    {
     "name": "stderr",
     "output_type": "stream",
     "text": [
      "loss = 0.03750: : 63it [00:43,  1.46it/s]                        \n",
      "loss = 0.06146: 102%|██████████| 8/7.8125 [00:05<00:00,  1.50it/s]\n",
      "  0%|          | 0/62.5 [00:00<?, ?it/s]"
     ]
    },
    {
     "name": "stdout",
     "output_type": "stream",
     "text": [
      "Epoch: 19, Training Loss:   0.0427\n",
      "               Validation Loss: 0.0460\n",
      "Stale epoch\n"
     ]
    },
    {
     "name": "stderr",
     "output_type": "stream",
     "text": [
      "loss = 0.02240: : 63it [00:43,  1.46it/s]                        \n",
      "loss = 0.05151: 102%|██████████| 8/7.8125 [00:05<00:00,  1.50it/s]\n",
      "  0%|          | 0/62.5 [00:00<?, ?it/s]"
     ]
    },
    {
     "name": "stdout",
     "output_type": "stream",
     "text": [
      "Epoch: 20, Training Loss:   0.0442\n",
      "               Validation Loss: 0.0368\n",
      "New best model saved to: /home/jovyan/work/EnergyFlow/demos/DynamicEdgeNet.best.pth\n"
     ]
    },
    {
     "name": "stderr",
     "output_type": "stream",
     "text": [
      "loss = 0.06150: : 63it [00:43,  1.45it/s]                        \n",
      "loss = 0.04904: 102%|██████████| 8/7.8125 [00:05<00:00,  1.50it/s]\n",
      "  0%|          | 0/62.5 [00:00<?, ?it/s]"
     ]
    },
    {
     "name": "stdout",
     "output_type": "stream",
     "text": [
      "Epoch: 21, Training Loss:   0.0410\n",
      "               Validation Loss: 0.0368\n",
      "New best model saved to: /home/jovyan/work/EnergyFlow/demos/DynamicEdgeNet.best.pth\n"
     ]
    },
    {
     "name": "stderr",
     "output_type": "stream",
     "text": [
      "loss = 0.02894: : 63it [00:43,  1.46it/s]                        \n",
      "loss = 0.05347: 102%|██████████| 8/7.8125 [00:05<00:00,  1.50it/s]\n",
      "  0%|          | 0/62.5 [00:00<?, ?it/s]"
     ]
    },
    {
     "name": "stdout",
     "output_type": "stream",
     "text": [
      "Epoch: 22, Training Loss:   0.0404\n",
      "               Validation Loss: 0.0407\n",
      "Stale epoch\n"
     ]
    },
    {
     "name": "stderr",
     "output_type": "stream",
     "text": [
      "loss = 0.01964: : 63it [00:43,  1.45it/s]                        \n",
      "loss = 0.04860: 102%|██████████| 8/7.8125 [00:05<00:00,  1.51it/s]\n",
      "  0%|          | 0/62.5 [00:00<?, ?it/s]"
     ]
    },
    {
     "name": "stdout",
     "output_type": "stream",
     "text": [
      "Epoch: 23, Training Loss:   0.0395\n",
      "               Validation Loss: 0.0374\n",
      "Stale epoch\n"
     ]
    },
    {
     "name": "stderr",
     "output_type": "stream",
     "text": [
      "loss = 0.02816: : 63it [00:43,  1.45it/s]                        \n",
      "loss = 0.04732: 102%|██████████| 8/7.8125 [00:05<00:00,  1.51it/s]\n",
      "  0%|          | 0/62.5 [00:00<?, ?it/s]"
     ]
    },
    {
     "name": "stdout",
     "output_type": "stream",
     "text": [
      "Epoch: 24, Training Loss:   0.0386\n",
      "               Validation Loss: 0.0348\n",
      "New best model saved to: /home/jovyan/work/EnergyFlow/demos/DynamicEdgeNet.best.pth\n"
     ]
    },
    {
     "name": "stderr",
     "output_type": "stream",
     "text": [
      "loss = 0.02464: : 63it [00:43,  1.44it/s]                        \n",
      "loss = 0.04564: 102%|██████████| 8/7.8125 [00:05<00:00,  1.42it/s]\n",
      "  0%|          | 0/62.5 [00:00<?, ?it/s]"
     ]
    },
    {
     "name": "stdout",
     "output_type": "stream",
     "text": [
      "Epoch: 25, Training Loss:   0.0381\n",
      "               Validation Loss: 0.0350\n",
      "Stale epoch\n"
     ]
    },
    {
     "name": "stderr",
     "output_type": "stream",
     "text": [
      "loss = 0.04309: : 63it [00:44,  1.40it/s]                        \n",
      "loss = 0.04776: 102%|██████████| 8/7.8125 [00:05<00:00,  1.43it/s]\n",
      "  0%|          | 0/62.5 [00:00<?, ?it/s]"
     ]
    },
    {
     "name": "stdout",
     "output_type": "stream",
     "text": [
      "Epoch: 26, Training Loss:   0.0398\n",
      "               Validation Loss: 0.0386\n",
      "Stale epoch\n"
     ]
    },
    {
     "name": "stderr",
     "output_type": "stream",
     "text": [
      "loss = 0.02547: : 63it [00:44,  1.41it/s]                        \n",
      "loss = 0.04338: 102%|██████████| 8/7.8125 [00:05<00:00,  1.43it/s]\n",
      "  0%|          | 0/62.5 [00:00<?, ?it/s]"
     ]
    },
    {
     "name": "stdout",
     "output_type": "stream",
     "text": [
      "Epoch: 27, Training Loss:   0.0368\n",
      "               Validation Loss: 0.0344\n",
      "New best model saved to: /home/jovyan/work/EnergyFlow/demos/DynamicEdgeNet.best.pth\n"
     ]
    },
    {
     "name": "stderr",
     "output_type": "stream",
     "text": [
      "loss = 0.04363: : 63it [00:45,  1.39it/s]                        \n",
      "loss = 0.04259: 102%|██████████| 8/7.8125 [00:05<00:00,  1.45it/s]\n",
      "  0%|          | 0/62.5 [00:00<?, ?it/s]"
     ]
    },
    {
     "name": "stdout",
     "output_type": "stream",
     "text": [
      "Epoch: 28, Training Loss:   0.0379\n",
      "               Validation Loss: 0.0330\n",
      "New best model saved to: /home/jovyan/work/EnergyFlow/demos/DynamicEdgeNet.best.pth\n"
     ]
    },
    {
     "name": "stderr",
     "output_type": "stream",
     "text": [
      "loss = 0.02725: : 63it [00:45,  1.39it/s]                        \n",
      "loss = 0.04218: 102%|██████████| 8/7.8125 [00:05<00:00,  1.43it/s]\n",
      "  0%|          | 0/62.5 [00:00<?, ?it/s]"
     ]
    },
    {
     "name": "stdout",
     "output_type": "stream",
     "text": [
      "Epoch: 29, Training Loss:   0.0361\n",
      "               Validation Loss: 0.0320\n",
      "New best model saved to: /home/jovyan/work/EnergyFlow/demos/DynamicEdgeNet.best.pth\n"
     ]
    },
    {
     "name": "stderr",
     "output_type": "stream",
     "text": [
      "loss = 0.02999: : 63it [00:45,  1.39it/s]                        \n",
      "loss = 0.04143: 102%|██████████| 8/7.8125 [00:05<00:00,  1.43it/s]\n",
      "  0%|          | 0/62.5 [00:00<?, ?it/s]"
     ]
    },
    {
     "name": "stdout",
     "output_type": "stream",
     "text": [
      "Epoch: 30, Training Loss:   0.0369\n",
      "               Validation Loss: 0.0317\n",
      "New best model saved to: /home/jovyan/work/EnergyFlow/demos/DynamicEdgeNet.best.pth\n"
     ]
    },
    {
     "name": "stderr",
     "output_type": "stream",
     "text": [
      "loss = 0.05855: : 63it [00:44,  1.40it/s]                        \n",
      "loss = 0.04154: 102%|██████████| 8/7.8125 [00:05<00:00,  1.43it/s]\n",
      "  0%|          | 0/62.5 [00:00<?, ?it/s]"
     ]
    },
    {
     "name": "stdout",
     "output_type": "stream",
     "text": [
      "Epoch: 31, Training Loss:   0.0354\n",
      "               Validation Loss: 0.0313\n",
      "New best model saved to: /home/jovyan/work/EnergyFlow/demos/DynamicEdgeNet.best.pth\n"
     ]
    },
    {
     "name": "stderr",
     "output_type": "stream",
     "text": [
      "loss = 0.02422: : 63it [00:45,  1.40it/s]                        \n",
      "loss = 0.04809: 102%|██████████| 8/7.8125 [00:05<00:00,  1.43it/s]\n",
      "  0%|          | 0/62.5 [00:00<?, ?it/s]"
     ]
    },
    {
     "name": "stdout",
     "output_type": "stream",
     "text": [
      "Epoch: 32, Training Loss:   0.0339\n",
      "               Validation Loss: 0.0372\n",
      "Stale epoch\n"
     ]
    },
    {
     "name": "stderr",
     "output_type": "stream",
     "text": [
      "loss = 0.05243: : 63it [00:45,  1.39it/s]                        \n",
      "loss = 0.04194: 102%|██████████| 8/7.8125 [00:05<00:00,  1.43it/s]\n",
      "  0%|          | 0/62.5 [00:00<?, ?it/s]"
     ]
    },
    {
     "name": "stdout",
     "output_type": "stream",
     "text": [
      "Epoch: 33, Training Loss:   0.0352\n",
      "               Validation Loss: 0.0334\n",
      "Stale epoch\n"
     ]
    },
    {
     "name": "stderr",
     "output_type": "stream",
     "text": [
      "loss = 0.04051: : 63it [00:45,  1.39it/s]                        \n",
      "loss = 0.04101: 102%|██████████| 8/7.8125 [00:05<00:00,  1.43it/s]\n",
      "  0%|          | 0/62.5 [00:00<?, ?it/s]"
     ]
    },
    {
     "name": "stdout",
     "output_type": "stream",
     "text": [
      "Epoch: 34, Training Loss:   0.0374\n",
      "               Validation Loss: 0.0315\n",
      "Stale epoch\n"
     ]
    },
    {
     "name": "stderr",
     "output_type": "stream",
     "text": [
      "loss = 0.06236: : 63it [00:45,  1.39it/s]                        \n",
      "loss = 0.03959: 102%|██████████| 8/7.8125 [00:05<00:00,  1.42it/s]\n",
      "  0%|          | 0/62.5 [00:00<?, ?it/s]"
     ]
    },
    {
     "name": "stdout",
     "output_type": "stream",
     "text": [
      "Epoch: 35, Training Loss:   0.0358\n",
      "               Validation Loss: 0.0301\n",
      "New best model saved to: /home/jovyan/work/EnergyFlow/demos/DynamicEdgeNet.best.pth\n"
     ]
    },
    {
     "name": "stderr",
     "output_type": "stream",
     "text": [
      "loss = 0.04834: : 63it [00:45,  1.40it/s]                        \n",
      "loss = 0.03853: 102%|██████████| 8/7.8125 [00:05<00:00,  1.41it/s]\n",
      "  0%|          | 0/62.5 [00:00<?, ?it/s]"
     ]
    },
    {
     "name": "stdout",
     "output_type": "stream",
     "text": [
      "Epoch: 36, Training Loss:   0.0330\n",
      "               Validation Loss: 0.0294\n",
      "New best model saved to: /home/jovyan/work/EnergyFlow/demos/DynamicEdgeNet.best.pth\n"
     ]
    },
    {
     "name": "stderr",
     "output_type": "stream",
     "text": [
      "loss = 0.03287: : 63it [00:45,  1.39it/s]                        \n",
      "loss = 0.03741: 102%|██████████| 8/7.8125 [00:05<00:00,  1.43it/s]\n",
      "  0%|          | 0/62.5 [00:00<?, ?it/s]"
     ]
    },
    {
     "name": "stdout",
     "output_type": "stream",
     "text": [
      "Epoch: 37, Training Loss:   0.0347\n",
      "               Validation Loss: 0.0296\n",
      "Stale epoch\n"
     ]
    },
    {
     "name": "stderr",
     "output_type": "stream",
     "text": [
      "loss = 0.04990: : 63it [00:45,  1.39it/s]                        \n",
      "loss = 0.03742: 102%|██████████| 8/7.8125 [00:05<00:00,  1.38it/s]\n",
      "  0%|          | 0/62.5 [00:00<?, ?it/s]"
     ]
    },
    {
     "name": "stdout",
     "output_type": "stream",
     "text": [
      "Epoch: 38, Training Loss:   0.0324\n",
      "               Validation Loss: 0.0287\n",
      "New best model saved to: /home/jovyan/work/EnergyFlow/demos/DynamicEdgeNet.best.pth\n"
     ]
    },
    {
     "name": "stderr",
     "output_type": "stream",
     "text": [
      "loss = 0.03214: : 63it [00:45,  1.38it/s]                        \n",
      "loss = 0.04075: 102%|██████████| 8/7.8125 [00:05<00:00,  1.43it/s]\n",
      "  0%|          | 0/62.5 [00:00<?, ?it/s]"
     ]
    },
    {
     "name": "stdout",
     "output_type": "stream",
     "text": [
      "Epoch: 39, Training Loss:   0.0321\n",
      "               Validation Loss: 0.0298\n",
      "Stale epoch\n"
     ]
    },
    {
     "name": "stderr",
     "output_type": "stream",
     "text": [
      "loss = 0.01987: : 63it [00:45,  1.38it/s]                        \n",
      "loss = 0.04177: 102%|██████████| 8/7.8125 [00:05<00:00,  1.43it/s]\n",
      "  0%|          | 0/62.5 [00:00<?, ?it/s]"
     ]
    },
    {
     "name": "stdout",
     "output_type": "stream",
     "text": [
      "Epoch: 40, Training Loss:   0.0319\n",
      "               Validation Loss: 0.0319\n",
      "Stale epoch\n"
     ]
    },
    {
     "name": "stderr",
     "output_type": "stream",
     "text": [
      "loss = 0.01659: : 63it [00:45,  1.38it/s]                        \n",
      "loss = 0.03511: 102%|██████████| 8/7.8125 [00:05<00:00,  1.42it/s]\n",
      "  0%|          | 0/62.5 [00:00<?, ?it/s]"
     ]
    },
    {
     "name": "stdout",
     "output_type": "stream",
     "text": [
      "Epoch: 41, Training Loss:   0.0332\n",
      "               Validation Loss: 0.0274\n",
      "New best model saved to: /home/jovyan/work/EnergyFlow/demos/DynamicEdgeNet.best.pth\n"
     ]
    },
    {
     "name": "stderr",
     "output_type": "stream",
     "text": [
      "loss = 0.02285: : 63it [00:45,  1.38it/s]                        \n",
      "loss = 0.04945: 102%|██████████| 8/7.8125 [00:05<00:00,  1.41it/s]\n",
      "  0%|          | 0/62.5 [00:00<?, ?it/s]"
     ]
    },
    {
     "name": "stdout",
     "output_type": "stream",
     "text": [
      "Epoch: 42, Training Loss:   0.0309\n",
      "               Validation Loss: 0.0400\n",
      "Stale epoch\n"
     ]
    },
    {
     "name": "stderr",
     "output_type": "stream",
     "text": [
      "loss = 0.05157: : 63it [00:45,  1.39it/s]                        \n",
      "loss = 0.03605: 102%|██████████| 8/7.8125 [00:05<00:00,  1.49it/s]\n",
      "  0%|          | 0/62.5 [00:00<?, ?it/s]"
     ]
    },
    {
     "name": "stdout",
     "output_type": "stream",
     "text": [
      "Epoch: 43, Training Loss:   0.0344\n",
      "               Validation Loss: 0.0266\n",
      "New best model saved to: /home/jovyan/work/EnergyFlow/demos/DynamicEdgeNet.best.pth\n"
     ]
    },
    {
     "name": "stderr",
     "output_type": "stream",
     "text": [
      "loss = 0.02139: : 63it [00:43,  1.44it/s]                        \n",
      "loss = 0.03513: 102%|██████████| 8/7.8125 [00:05<00:00,  1.49it/s]\n",
      "  0%|          | 0/62.5 [00:00<?, ?it/s]"
     ]
    },
    {
     "name": "stdout",
     "output_type": "stream",
     "text": [
      "Epoch: 44, Training Loss:   0.0312\n",
      "               Validation Loss: 0.0273\n",
      "Stale epoch\n"
     ]
    },
    {
     "name": "stderr",
     "output_type": "stream",
     "text": [
      "loss = 0.02450: : 63it [00:43,  1.44it/s]                        \n",
      "loss = 0.04696: 102%|██████████| 8/7.8125 [00:05<00:00,  1.49it/s]\n",
      "  0%|          | 0/62.5 [00:00<?, ?it/s]"
     ]
    },
    {
     "name": "stdout",
     "output_type": "stream",
     "text": [
      "Epoch: 45, Training Loss:   0.0306\n",
      "               Validation Loss: 0.0353\n",
      "Stale epoch\n"
     ]
    },
    {
     "name": "stderr",
     "output_type": "stream",
     "text": [
      "loss = 0.09573: : 63it [00:44,  1.41it/s]                        \n",
      "loss = 0.03674: 102%|██████████| 8/7.8125 [00:05<00:00,  1.43it/s]\n",
      "  0%|          | 0/62.5 [00:00<?, ?it/s]"
     ]
    },
    {
     "name": "stdout",
     "output_type": "stream",
     "text": [
      "Epoch: 46, Training Loss:   0.0317\n",
      "               Validation Loss: 0.0330\n",
      "Stale epoch\n"
     ]
    },
    {
     "name": "stderr",
     "output_type": "stream",
     "text": [
      "loss = 0.02468: : 63it [00:44,  1.42it/s]                        \n",
      "loss = 0.03849: 102%|██████████| 8/7.8125 [00:05<00:00,  1.50it/s]\n",
      "  0%|          | 0/62.5 [00:00<?, ?it/s]"
     ]
    },
    {
     "name": "stdout",
     "output_type": "stream",
     "text": [
      "Epoch: 47, Training Loss:   0.0299\n",
      "               Validation Loss: 0.0312\n",
      "Stale epoch\n"
     ]
    },
    {
     "name": "stderr",
     "output_type": "stream",
     "text": [
      "loss = 0.03948: : 63it [00:43,  1.45it/s]                        \n",
      "loss = 0.03428: 102%|██████████| 8/7.8125 [00:05<00:00,  1.50it/s]\n",
      "  0%|          | 0/62.5 [00:00<?, ?it/s]"
     ]
    },
    {
     "name": "stdout",
     "output_type": "stream",
     "text": [
      "Epoch: 48, Training Loss:   0.0310\n",
      "               Validation Loss: 0.0265\n",
      "New best model saved to: /home/jovyan/work/EnergyFlow/demos/DynamicEdgeNet.best.pth\n"
     ]
    },
    {
     "name": "stderr",
     "output_type": "stream",
     "text": [
      "loss = 0.02612: : 63it [00:43,  1.44it/s]                        \n",
      "loss = 0.03375: 102%|██████████| 8/7.8125 [00:05<00:00,  1.49it/s]\n",
      "  0%|          | 0/62.5 [00:00<?, ?it/s]"
     ]
    },
    {
     "name": "stdout",
     "output_type": "stream",
     "text": [
      "Epoch: 49, Training Loss:   0.0306\n",
      "               Validation Loss: 0.0275\n",
      "Stale epoch\n"
     ]
    },
    {
     "name": "stderr",
     "output_type": "stream",
     "text": [
      "loss = 0.02585: : 63it [00:43,  1.45it/s]                        \n",
      "loss = 0.03414: 102%|██████████| 8/7.8125 [00:05<00:00,  1.49it/s]\n",
      "  0%|          | 0/62.5 [00:00<?, ?it/s]"
     ]
    },
    {
     "name": "stdout",
     "output_type": "stream",
     "text": [
      "Epoch: 50, Training Loss:   0.0307\n",
      "               Validation Loss: 0.0299\n",
      "Stale epoch\n"
     ]
    },
    {
     "name": "stderr",
     "output_type": "stream",
     "text": [
      "loss = 0.03428: : 63it [00:43,  1.44it/s]                        \n",
      "loss = 0.03189: 102%|██████████| 8/7.8125 [00:05<00:00,  1.50it/s]\n",
      "  0%|          | 0/62.5 [00:00<?, ?it/s]"
     ]
    },
    {
     "name": "stdout",
     "output_type": "stream",
     "text": [
      "Epoch: 51, Training Loss:   0.0293\n",
      "               Validation Loss: 0.0251\n",
      "New best model saved to: /home/jovyan/work/EnergyFlow/demos/DynamicEdgeNet.best.pth\n"
     ]
    },
    {
     "name": "stderr",
     "output_type": "stream",
     "text": [
      "loss = 0.04129: : 63it [00:43,  1.45it/s]                        \n",
      "loss = 0.04312: 102%|██████████| 8/7.8125 [00:05<00:00,  1.45it/s]\n",
      "  0%|          | 0/62.5 [00:00<?, ?it/s]"
     ]
    },
    {
     "name": "stdout",
     "output_type": "stream",
     "text": [
      "Epoch: 52, Training Loss:   0.0300\n",
      "               Validation Loss: 0.0384\n",
      "Stale epoch\n"
     ]
    },
    {
     "name": "stderr",
     "output_type": "stream",
     "text": [
      "loss = 0.05385: : 63it [00:43,  1.45it/s]                        \n",
      "loss = 0.03296: 102%|██████████| 8/7.8125 [00:05<00:00,  1.50it/s]\n",
      "  0%|          | 0/62.5 [00:00<?, ?it/s]"
     ]
    },
    {
     "name": "stdout",
     "output_type": "stream",
     "text": [
      "Epoch: 53, Training Loss:   0.0303\n",
      "               Validation Loss: 0.0248\n",
      "New best model saved to: /home/jovyan/work/EnergyFlow/demos/DynamicEdgeNet.best.pth\n"
     ]
    },
    {
     "name": "stderr",
     "output_type": "stream",
     "text": [
      "loss = 0.05365: : 63it [00:43,  1.45it/s]                        \n",
      "loss = 0.03294: 102%|██████████| 8/7.8125 [00:05<00:00,  1.50it/s]\n",
      "  0%|          | 0/62.5 [00:00<?, ?it/s]"
     ]
    },
    {
     "name": "stdout",
     "output_type": "stream",
     "text": [
      "Epoch: 54, Training Loss:   0.0286\n",
      "               Validation Loss: 0.0250\n",
      "Stale epoch\n"
     ]
    },
    {
     "name": "stderr",
     "output_type": "stream",
     "text": [
      "loss = 0.02617: : 63it [00:44,  1.41it/s]                        \n",
      "loss = 0.04776: 102%|██████████| 8/7.8125 [00:05<00:00,  1.43it/s]\n",
      "  0%|          | 0/62.5 [00:00<?, ?it/s]"
     ]
    },
    {
     "name": "stdout",
     "output_type": "stream",
     "text": [
      "Epoch: 55, Training Loss:   0.0288\n",
      "               Validation Loss: 0.0390\n",
      "Stale epoch\n"
     ]
    },
    {
     "name": "stderr",
     "output_type": "stream",
     "text": [
      "loss = 0.03252: : 63it [00:45,  1.39it/s]                        \n",
      "loss = 0.02911: 102%|██████████| 8/7.8125 [00:05<00:00,  1.43it/s]\n",
      "  0%|          | 0/62.5 [00:00<?, ?it/s]"
     ]
    },
    {
     "name": "stdout",
     "output_type": "stream",
     "text": [
      "Epoch: 56, Training Loss:   0.0285\n",
      "               Validation Loss: 0.0232\n",
      "New best model saved to: /home/jovyan/work/EnergyFlow/demos/DynamicEdgeNet.best.pth\n"
     ]
    },
    {
     "name": "stderr",
     "output_type": "stream",
     "text": [
      "loss = 0.12664: : 63it [00:45,  1.39it/s]                        \n",
      "loss = 0.02957: 102%|██████████| 8/7.8125 [00:05<00:00,  1.48it/s]\n",
      "  0%|          | 0/62.5 [00:00<?, ?it/s]"
     ]
    },
    {
     "name": "stdout",
     "output_type": "stream",
     "text": [
      "Epoch: 57, Training Loss:   0.0299\n",
      "               Validation Loss: 0.0239\n",
      "Stale epoch\n"
     ]
    },
    {
     "name": "stderr",
     "output_type": "stream",
     "text": [
      "loss = 0.02565: : 63it [00:43,  1.44it/s]                        \n",
      "loss = 0.03062: 102%|██████████| 8/7.8125 [00:05<00:00,  1.50it/s]\n",
      "  0%|          | 0/62.5 [00:00<?, ?it/s]"
     ]
    },
    {
     "name": "stdout",
     "output_type": "stream",
     "text": [
      "Epoch: 58, Training Loss:   0.0275\n",
      "               Validation Loss: 0.0262\n",
      "Stale epoch\n"
     ]
    },
    {
     "name": "stderr",
     "output_type": "stream",
     "text": [
      "loss = 0.01483: : 63it [00:43,  1.45it/s]                        \n",
      "loss = 0.02786: 102%|██████████| 8/7.8125 [00:05<00:00,  1.51it/s]\n",
      "  0%|          | 0/62.5 [00:00<?, ?it/s]"
     ]
    },
    {
     "name": "stdout",
     "output_type": "stream",
     "text": [
      "Epoch: 59, Training Loss:   0.0276\n",
      "               Validation Loss: 0.0228\n",
      "New best model saved to: /home/jovyan/work/EnergyFlow/demos/DynamicEdgeNet.best.pth\n"
     ]
    },
    {
     "name": "stderr",
     "output_type": "stream",
     "text": [
      "loss = 0.06042: : 63it [00:43,  1.45it/s]                        \n",
      "loss = 0.02880: 102%|██████████| 8/7.8125 [00:05<00:00,  1.50it/s]\n",
      "  0%|          | 0/62.5 [00:00<?, ?it/s]"
     ]
    },
    {
     "name": "stdout",
     "output_type": "stream",
     "text": [
      "Epoch: 60, Training Loss:   0.0266\n",
      "               Validation Loss: 0.0238\n",
      "Stale epoch\n"
     ]
    },
    {
     "name": "stderr",
     "output_type": "stream",
     "text": [
      "loss = 0.03886: : 63it [00:43,  1.45it/s]                        \n",
      "loss = 0.03507: 102%|██████████| 8/7.8125 [00:05<00:00,  1.49it/s]\n",
      "  0%|          | 0/62.5 [00:00<?, ?it/s]"
     ]
    },
    {
     "name": "stdout",
     "output_type": "stream",
     "text": [
      "Epoch: 61, Training Loss:   0.0281\n",
      "               Validation Loss: 0.0345\n",
      "Stale epoch\n"
     ]
    },
    {
     "name": "stderr",
     "output_type": "stream",
     "text": [
      "loss = 0.02203: : 63it [00:43,  1.46it/s]                        \n",
      "loss = 0.02716: 102%|██████████| 8/7.8125 [00:05<00:00,  1.49it/s]\n",
      "  0%|          | 0/62.5 [00:00<?, ?it/s]"
     ]
    },
    {
     "name": "stdout",
     "output_type": "stream",
     "text": [
      "Epoch: 62, Training Loss:   0.0277\n",
      "               Validation Loss: 0.0225\n",
      "New best model saved to: /home/jovyan/work/EnergyFlow/demos/DynamicEdgeNet.best.pth\n"
     ]
    },
    {
     "name": "stderr",
     "output_type": "stream",
     "text": [
      "loss = 0.04437: : 63it [00:45,  1.38it/s]                        \n",
      "loss = 0.02827: 102%|██████████| 8/7.8125 [00:05<00:00,  1.50it/s]\n",
      "  0%|          | 0/62.5 [00:00<?, ?it/s]"
     ]
    },
    {
     "name": "stdout",
     "output_type": "stream",
     "text": [
      "Epoch: 63, Training Loss:   0.0257\n",
      "               Validation Loss: 0.0228\n",
      "Stale epoch\n"
     ]
    },
    {
     "name": "stderr",
     "output_type": "stream",
     "text": [
      "loss = 0.01177: : 63it [00:43,  1.46it/s]                        \n",
      "loss = 0.03314: 102%|██████████| 8/7.8125 [00:05<00:00,  1.51it/s]\n",
      "  0%|          | 0/62.5 [00:00<?, ?it/s]"
     ]
    },
    {
     "name": "stdout",
     "output_type": "stream",
     "text": [
      "Epoch: 64, Training Loss:   0.0266\n",
      "               Validation Loss: 0.0243\n",
      "Stale epoch\n"
     ]
    },
    {
     "name": "stderr",
     "output_type": "stream",
     "text": [
      "loss = 0.00977: : 63it [00:43,  1.45it/s]                        \n",
      "loss = 0.02706: 102%|██████████| 8/7.8125 [00:05<00:00,  1.50it/s]\n",
      "  0%|          | 0/62.5 [00:00<?, ?it/s]"
     ]
    },
    {
     "name": "stdout",
     "output_type": "stream",
     "text": [
      "Epoch: 65, Training Loss:   0.0258\n",
      "               Validation Loss: 0.0210\n",
      "New best model saved to: /home/jovyan/work/EnergyFlow/demos/DynamicEdgeNet.best.pth\n"
     ]
    },
    {
     "name": "stderr",
     "output_type": "stream",
     "text": [
      "loss = 0.03895: : 63it [00:43,  1.46it/s]                        \n",
      "loss = 0.02622: 102%|██████████| 8/7.8125 [00:05<00:00,  1.46it/s]\n",
      "  0%|          | 0/62.5 [00:00<?, ?it/s]"
     ]
    },
    {
     "name": "stdout",
     "output_type": "stream",
     "text": [
      "Epoch: 66, Training Loss:   0.0251\n",
      "               Validation Loss: 0.0218\n",
      "Stale epoch\n"
     ]
    },
    {
     "name": "stderr",
     "output_type": "stream",
     "text": [
      "loss = 0.02461: : 63it [00:43,  1.46it/s]                        \n",
      "loss = 0.02897: 102%|██████████| 8/7.8125 [00:05<00:00,  1.50it/s]\n",
      "  0%|          | 0/62.5 [00:00<?, ?it/s]"
     ]
    },
    {
     "name": "stdout",
     "output_type": "stream",
     "text": [
      "Epoch: 67, Training Loss:   0.0261\n",
      "               Validation Loss: 0.0224\n",
      "Stale epoch\n"
     ]
    },
    {
     "name": "stderr",
     "output_type": "stream",
     "text": [
      "loss = 0.03851: : 63it [00:43,  1.46it/s]                        \n",
      "loss = 0.02563: 102%|██████████| 8/7.8125 [00:05<00:00,  1.50it/s]\n",
      "  0%|          | 0/62.5 [00:00<?, ?it/s]"
     ]
    },
    {
     "name": "stdout",
     "output_type": "stream",
     "text": [
      "Epoch: 68, Training Loss:   0.0252\n",
      "               Validation Loss: 0.0217\n",
      "Stale epoch\n"
     ]
    },
    {
     "name": "stderr",
     "output_type": "stream",
     "text": [
      "loss = 0.01475: : 63it [00:43,  1.45it/s]                        \n",
      "loss = 0.02403: 102%|██████████| 8/7.8125 [00:05<00:00,  1.50it/s]\n",
      "  0%|          | 0/62.5 [00:00<?, ?it/s]"
     ]
    },
    {
     "name": "stdout",
     "output_type": "stream",
     "text": [
      "Epoch: 69, Training Loss:   0.0249\n",
      "               Validation Loss: 0.0209\n",
      "New best model saved to: /home/jovyan/work/EnergyFlow/demos/DynamicEdgeNet.best.pth\n"
     ]
    },
    {
     "name": "stderr",
     "output_type": "stream",
     "text": [
      "loss = 0.02473: : 63it [00:43,  1.46it/s]                        \n",
      "loss = 0.02508: 102%|██████████| 8/7.8125 [00:05<00:00,  1.50it/s]\n",
      "  0%|          | 0/62.5 [00:00<?, ?it/s]"
     ]
    },
    {
     "name": "stdout",
     "output_type": "stream",
     "text": [
      "Epoch: 70, Training Loss:   0.0263\n",
      "               Validation Loss: 0.0245\n",
      "Stale epoch\n"
     ]
    },
    {
     "name": "stderr",
     "output_type": "stream",
     "text": [
      "loss = 0.02189: : 63it [00:43,  1.46it/s]                        \n",
      "loss = 0.02386: 102%|██████████| 8/7.8125 [00:05<00:00,  1.50it/s]\n",
      "  0%|          | 0/62.5 [00:00<?, ?it/s]"
     ]
    },
    {
     "name": "stdout",
     "output_type": "stream",
     "text": [
      "Epoch: 71, Training Loss:   0.0244\n",
      "               Validation Loss: 0.0210\n",
      "Stale epoch\n"
     ]
    },
    {
     "name": "stderr",
     "output_type": "stream",
     "text": [
      "loss = 0.03224: : 63it [00:43,  1.45it/s]                        \n",
      "loss = 0.02221: 102%|██████████| 8/7.8125 [00:05<00:00,  1.50it/s]\n",
      "  0%|          | 0/62.5 [00:00<?, ?it/s]"
     ]
    },
    {
     "name": "stdout",
     "output_type": "stream",
     "text": [
      "Epoch: 72, Training Loss:   0.0237\n",
      "               Validation Loss: 0.0198\n",
      "New best model saved to: /home/jovyan/work/EnergyFlow/demos/DynamicEdgeNet.best.pth\n"
     ]
    },
    {
     "name": "stderr",
     "output_type": "stream",
     "text": [
      "loss = 0.01673: : 63it [00:43,  1.45it/s]                        \n",
      "loss = 0.03177: 102%|██████████| 8/7.8125 [00:05<00:00,  1.50it/s]\n",
      "  0%|          | 0/62.5 [00:00<?, ?it/s]"
     ]
    },
    {
     "name": "stdout",
     "output_type": "stream",
     "text": [
      "Epoch: 73, Training Loss:   0.0243\n",
      "               Validation Loss: 0.0261\n",
      "Stale epoch\n"
     ]
    },
    {
     "name": "stderr",
     "output_type": "stream",
     "text": [
      "loss = 0.02991: : 63it [00:43,  1.46it/s]                        \n",
      "loss = 0.02197: 102%|██████████| 8/7.8125 [00:05<00:00,  1.50it/s]\n",
      "  0%|          | 0/62.5 [00:00<?, ?it/s]"
     ]
    },
    {
     "name": "stdout",
     "output_type": "stream",
     "text": [
      "Epoch: 74, Training Loss:   0.0254\n",
      "               Validation Loss: 0.0195\n",
      "New best model saved to: /home/jovyan/work/EnergyFlow/demos/DynamicEdgeNet.best.pth\n"
     ]
    },
    {
     "name": "stderr",
     "output_type": "stream",
     "text": [
      "loss = 0.01954: : 63it [00:43,  1.46it/s]                        \n",
      "loss = 0.02102: 102%|██████████| 8/7.8125 [00:05<00:00,  1.50it/s]\n",
      "  0%|          | 0/62.5 [00:00<?, ?it/s]"
     ]
    },
    {
     "name": "stdout",
     "output_type": "stream",
     "text": [
      "Epoch: 75, Training Loss:   0.0216\n",
      "               Validation Loss: 0.0194\n",
      "New best model saved to: /home/jovyan/work/EnergyFlow/demos/DynamicEdgeNet.best.pth\n"
     ]
    },
    {
     "name": "stderr",
     "output_type": "stream",
     "text": [
      "loss = 0.01939: : 63it [00:43,  1.46it/s]                        \n",
      "loss = 0.03104: 102%|██████████| 8/7.8125 [00:05<00:00,  1.50it/s]\n",
      "  0%|          | 0/62.5 [00:00<?, ?it/s]"
     ]
    },
    {
     "name": "stdout",
     "output_type": "stream",
     "text": [
      "Epoch: 76, Training Loss:   0.0228\n",
      "               Validation Loss: 0.0289\n",
      "Stale epoch\n"
     ]
    },
    {
     "name": "stderr",
     "output_type": "stream",
     "text": [
      "loss = 0.02132: : 63it [00:43,  1.45it/s]                        \n",
      "loss = 0.02460: 102%|██████████| 8/7.8125 [00:05<00:00,  1.51it/s]\n",
      "  0%|          | 0/62.5 [00:00<?, ?it/s]"
     ]
    },
    {
     "name": "stdout",
     "output_type": "stream",
     "text": [
      "Epoch: 77, Training Loss:   0.0224\n",
      "               Validation Loss: 0.0254\n",
      "Stale epoch\n"
     ]
    },
    {
     "name": "stderr",
     "output_type": "stream",
     "text": [
      "loss = 0.01162: : 63it [00:43,  1.46it/s]                        \n",
      "loss = 0.01895: 102%|██████████| 8/7.8125 [00:05<00:00,  1.50it/s]\n",
      "  0%|          | 0/62.5 [00:00<?, ?it/s]"
     ]
    },
    {
     "name": "stdout",
     "output_type": "stream",
     "text": [
      "Epoch: 78, Training Loss:   0.0227\n",
      "               Validation Loss: 0.0227\n",
      "Stale epoch\n"
     ]
    },
    {
     "name": "stderr",
     "output_type": "stream",
     "text": [
      "loss = 0.01430: : 63it [00:43,  1.45it/s]                        \n",
      "loss = 0.01830: 102%|██████████| 8/7.8125 [00:05<00:00,  1.51it/s]\n",
      "  0%|          | 0/62.5 [00:00<?, ?it/s]"
     ]
    },
    {
     "name": "stdout",
     "output_type": "stream",
     "text": [
      "Epoch: 79, Training Loss:   0.0218\n",
      "               Validation Loss: 0.0210\n",
      "Stale epoch\n"
     ]
    },
    {
     "name": "stderr",
     "output_type": "stream",
     "text": [
      "loss = 0.01224: : 63it [00:43,  1.46it/s]                        \n",
      "loss = 0.01639: 102%|██████████| 8/7.8125 [00:05<00:00,  1.51it/s]\n",
      "  0%|          | 0/62.5 [00:00<?, ?it/s]"
     ]
    },
    {
     "name": "stdout",
     "output_type": "stream",
     "text": [
      "Epoch: 80, Training Loss:   0.0211\n",
      "               Validation Loss: 0.0172\n",
      "New best model saved to: /home/jovyan/work/EnergyFlow/demos/DynamicEdgeNet.best.pth\n"
     ]
    },
    {
     "name": "stderr",
     "output_type": "stream",
     "text": [
      "loss = 0.01428: : 63it [00:43,  1.45it/s]                        \n",
      "loss = 0.02333: 102%|██████████| 8/7.8125 [00:05<00:00,  1.51it/s]\n",
      "  0%|          | 0/62.5 [00:00<?, ?it/s]"
     ]
    },
    {
     "name": "stdout",
     "output_type": "stream",
     "text": [
      "Epoch: 81, Training Loss:   0.0198\n",
      "               Validation Loss: 0.0257\n",
      "Stale epoch\n"
     ]
    },
    {
     "name": "stderr",
     "output_type": "stream",
     "text": [
      "loss = 0.03368: : 63it [00:43,  1.46it/s]                        \n",
      "loss = 0.01875: 102%|██████████| 8/7.8125 [00:05<00:00,  1.50it/s]\n",
      "  0%|          | 0/62.5 [00:00<?, ?it/s]"
     ]
    },
    {
     "name": "stdout",
     "output_type": "stream",
     "text": [
      "Epoch: 82, Training Loss:   0.0258\n",
      "               Validation Loss: 0.0219\n",
      "Stale epoch\n"
     ]
    },
    {
     "name": "stderr",
     "output_type": "stream",
     "text": [
      "loss = 0.02135: : 63it [00:43,  1.45it/s]                        \n",
      "loss = 0.01788: 102%|██████████| 8/7.8125 [00:05<00:00,  1.50it/s]\n",
      "  0%|          | 0/62.5 [00:00<?, ?it/s]"
     ]
    },
    {
     "name": "stdout",
     "output_type": "stream",
     "text": [
      "Epoch: 83, Training Loss:   0.0209\n",
      "               Validation Loss: 0.0194\n",
      "Stale epoch\n"
     ]
    },
    {
     "name": "stderr",
     "output_type": "stream",
     "text": [
      "loss = 0.01166: : 63it [00:43,  1.46it/s]                        \n",
      "loss = 0.02023: 102%|██████████| 8/7.8125 [00:05<00:00,  1.50it/s]\n",
      "  0%|          | 0/62.5 [00:00<?, ?it/s]"
     ]
    },
    {
     "name": "stdout",
     "output_type": "stream",
     "text": [
      "Epoch: 84, Training Loss:   0.0204\n",
      "               Validation Loss: 0.0199\n",
      "Stale epoch\n"
     ]
    },
    {
     "name": "stderr",
     "output_type": "stream",
     "text": [
      "loss = 0.02892: : 63it [00:43,  1.45it/s]                        \n",
      "loss = 0.03317: 102%|██████████| 8/7.8125 [00:05<00:00,  1.51it/s]\n",
      "  0%|          | 0/62.5 [00:00<?, ?it/s]"
     ]
    },
    {
     "name": "stdout",
     "output_type": "stream",
     "text": [
      "Epoch: 85, Training Loss:   0.0214\n",
      "               Validation Loss: 0.0316\n",
      "Stale epoch\n"
     ]
    },
    {
     "name": "stderr",
     "output_type": "stream",
     "text": [
      "loss = 0.01985: : 63it [00:43,  1.45it/s]                        \n",
      "loss = 0.01808: 102%|██████████| 8/7.8125 [00:05<00:00,  1.50it/s]\n",
      "  0%|          | 0/62.5 [00:00<?, ?it/s]"
     ]
    },
    {
     "name": "stdout",
     "output_type": "stream",
     "text": [
      "Epoch: 86, Training Loss:   0.0216\n",
      "               Validation Loss: 0.0172\n",
      "New best model saved to: /home/jovyan/work/EnergyFlow/demos/DynamicEdgeNet.best.pth\n"
     ]
    },
    {
     "name": "stderr",
     "output_type": "stream",
     "text": [
      "loss = 0.01595: : 63it [00:43,  1.45it/s]                        \n",
      "loss = 0.01950: 102%|██████████| 8/7.8125 [00:05<00:00,  1.50it/s]\n",
      "  0%|          | 0/62.5 [00:00<?, ?it/s]"
     ]
    },
    {
     "name": "stdout",
     "output_type": "stream",
     "text": [
      "Epoch: 87, Training Loss:   0.0196\n",
      "               Validation Loss: 0.0188\n",
      "Stale epoch\n"
     ]
    },
    {
     "name": "stderr",
     "output_type": "stream",
     "text": [
      "loss = 0.01785: : 63it [00:42,  1.47it/s]                        \n",
      "loss = 0.01443: 102%|██████████| 8/7.8125 [00:05<00:00,  1.50it/s]\n",
      "  0%|          | 0/62.5 [00:00<?, ?it/s]"
     ]
    },
    {
     "name": "stdout",
     "output_type": "stream",
     "text": [
      "Epoch: 88, Training Loss:   0.0185\n",
      "               Validation Loss: 0.0157\n",
      "New best model saved to: /home/jovyan/work/EnergyFlow/demos/DynamicEdgeNet.best.pth\n"
     ]
    },
    {
     "name": "stderr",
     "output_type": "stream",
     "text": [
      "loss = 0.01397: : 63it [00:43,  1.46it/s]                        \n",
      "loss = 0.01485: 102%|██████████| 8/7.8125 [00:05<00:00,  1.50it/s]\n",
      "  0%|          | 0/62.5 [00:00<?, ?it/s]"
     ]
    },
    {
     "name": "stdout",
     "output_type": "stream",
     "text": [
      "Epoch: 89, Training Loss:   0.0203\n",
      "               Validation Loss: 0.0165\n",
      "Stale epoch\n"
     ]
    },
    {
     "name": "stderr",
     "output_type": "stream",
     "text": [
      "loss = 0.01556: : 63it [00:43,  1.46it/s]                        \n",
      "loss = 0.01692: 102%|██████████| 8/7.8125 [00:05<00:00,  1.50it/s]\n",
      "  0%|          | 0/62.5 [00:00<?, ?it/s]"
     ]
    },
    {
     "name": "stdout",
     "output_type": "stream",
     "text": [
      "Epoch: 90, Training Loss:   0.0207\n",
      "               Validation Loss: 0.0173\n",
      "Stale epoch\n"
     ]
    },
    {
     "name": "stderr",
     "output_type": "stream",
     "text": [
      "loss = 0.01518: : 63it [00:43,  1.46it/s]                        \n",
      "loss = 0.01727: 102%|██████████| 8/7.8125 [00:05<00:00,  1.50it/s]\n",
      "  0%|          | 0/62.5 [00:00<?, ?it/s]"
     ]
    },
    {
     "name": "stdout",
     "output_type": "stream",
     "text": [
      "Epoch: 91, Training Loss:   0.0185\n",
      "               Validation Loss: 0.0199\n",
      "Stale epoch\n"
     ]
    },
    {
     "name": "stderr",
     "output_type": "stream",
     "text": [
      "loss = 0.02093: : 63it [00:43,  1.46it/s]                        \n",
      "loss = 0.01690: 102%|██████████| 8/7.8125 [00:05<00:00,  1.50it/s]\n",
      "  0%|          | 0/62.5 [00:00<?, ?it/s]"
     ]
    },
    {
     "name": "stdout",
     "output_type": "stream",
     "text": [
      "Epoch: 92, Training Loss:   0.0187\n",
      "               Validation Loss: 0.0171\n",
      "Stale epoch\n"
     ]
    },
    {
     "name": "stderr",
     "output_type": "stream",
     "text": [
      "loss = 0.00684: : 63it [00:43,  1.45it/s]                        \n",
      "loss = 0.01361: 102%|██████████| 8/7.8125 [00:05<00:00,  1.50it/s]\n",
      "  0%|          | 0/62.5 [00:00<?, ?it/s]"
     ]
    },
    {
     "name": "stdout",
     "output_type": "stream",
     "text": [
      "Epoch: 93, Training Loss:   0.0179\n",
      "               Validation Loss: 0.0148\n",
      "New best model saved to: /home/jovyan/work/EnergyFlow/demos/DynamicEdgeNet.best.pth\n"
     ]
    },
    {
     "name": "stderr",
     "output_type": "stream",
     "text": [
      "loss = 0.01589: : 63it [00:43,  1.46it/s]                        \n",
      "loss = 0.01485: 102%|██████████| 8/7.8125 [00:05<00:00,  1.51it/s]\n",
      "  0%|          | 0/62.5 [00:00<?, ?it/s]"
     ]
    },
    {
     "name": "stdout",
     "output_type": "stream",
     "text": [
      "Epoch: 94, Training Loss:   0.0165\n",
      "               Validation Loss: 0.0158\n",
      "Stale epoch\n"
     ]
    },
    {
     "name": "stderr",
     "output_type": "stream",
     "text": [
      "loss = 0.03793: : 63it [00:43,  1.45it/s]                        \n",
      "loss = 0.01284: 102%|██████████| 8/7.8125 [00:05<00:00,  1.50it/s]\n",
      "  0%|          | 0/62.5 [00:00<?, ?it/s]"
     ]
    },
    {
     "name": "stdout",
     "output_type": "stream",
     "text": [
      "Epoch: 95, Training Loss:   0.0180\n",
      "               Validation Loss: 0.0162\n",
      "Stale epoch\n"
     ]
    },
    {
     "name": "stderr",
     "output_type": "stream",
     "text": [
      "loss = 0.01411: : 63it [00:43,  1.46it/s]                        \n",
      "loss = 0.01494: 102%|██████████| 8/7.8125 [00:05<00:00,  1.50it/s]\n",
      "  0%|          | 0/62.5 [00:00<?, ?it/s]"
     ]
    },
    {
     "name": "stdout",
     "output_type": "stream",
     "text": [
      "Epoch: 96, Training Loss:   0.0177\n",
      "               Validation Loss: 0.0164\n",
      "Stale epoch\n"
     ]
    },
    {
     "name": "stderr",
     "output_type": "stream",
     "text": [
      "loss = 0.01833: : 63it [00:43,  1.46it/s]                        \n",
      "loss = 0.01234: 102%|██████████| 8/7.8125 [00:05<00:00,  1.50it/s]\n",
      "  0%|          | 0/62.5 [00:00<?, ?it/s]"
     ]
    },
    {
     "name": "stdout",
     "output_type": "stream",
     "text": [
      "Epoch: 97, Training Loss:   0.0180\n",
      "               Validation Loss: 0.0149\n",
      "Stale epoch\n"
     ]
    },
    {
     "name": "stderr",
     "output_type": "stream",
     "text": [
      "loss = 0.03903: : 63it [00:43,  1.46it/s]                        \n",
      "loss = 0.01552: 102%|██████████| 8/7.8125 [00:05<00:00,  1.50it/s]\n",
      "  0%|          | 0/62.5 [00:00<?, ?it/s]"
     ]
    },
    {
     "name": "stdout",
     "output_type": "stream",
     "text": [
      "Epoch: 98, Training Loss:   0.0198\n",
      "               Validation Loss: 0.0180\n",
      "Stale epoch\n"
     ]
    },
    {
     "name": "stderr",
     "output_type": "stream",
     "text": [
      "loss = 0.03822: : 63it [00:43,  1.45it/s]                        \n",
      "loss = 0.01058: 102%|██████████| 8/7.8125 [00:05<00:00,  1.50it/s]"
     ]
    },
    {
     "name": "stdout",
     "output_type": "stream",
     "text": [
      "Epoch: 99, Training Loss:   0.0163\n",
      "               Validation Loss: 0.0139\n",
      "New best model saved to: /home/jovyan/work/EnergyFlow/demos/DynamicEdgeNet.best.pth\n"
     ]
    },
    {
     "name": "stderr",
     "output_type": "stream",
     "text": [
      "\n"
     ]
    }
   ],
   "source": [
    "import os.path as osp\n",
    "\n",
    "n_epochs = 100\n",
    "patience = 10\n",
    "stale_epochs = 0\n",
    "best_valid_loss = 99999\n",
    "for epoch in range(0, n_epochs):\n",
    "    loss = train(model, optimizer, train_loader, train_samples, batch_size)\n",
    "    valid_loss = test(model, valid_loader, valid_samples, batch_size)\n",
    "    print('Epoch: {:02d}, Training Loss:   {:.4f}'.format(epoch, loss))\n",
    "    print('               Validation Loss: {:.4f}'.format(valid_loss))\n",
    "\n",
    "    if valid_loss < best_valid_loss:\n",
    "        best_valid_loss = valid_loss\n",
    "        modpath = osp.join('/home/jovyan/work/EnergyFlow/demos/',model_fname+'.best.pth')\n",
    "        print('New best model saved to:',modpath)\n",
    "        torch.save(model.state_dict(),modpath)\n",
    "        stale_epochs = 0\n",
    "    else:\n",
    "        print('Stale epoch')\n",
    "        stale_epochs += 1\n",
    "    if stale_epochs >= patience:\n",
    "        print('Early stopping after %i stale epochs'%patience)\n",
    "        break"
   ]
  },
  {
   "cell_type": "code",
   "execution_count": 10,
   "metadata": {},
   "outputs": [
    {
     "name": "stderr",
     "output_type": "stream",
     "text": [
      "102%|██████████| 8/7.8125 [00:06<00:00,  1.29it/s]\n"
     ]
    }
   ],
   "source": [
    "model.load_state_dict(torch.load(modpath))\n",
    "ys = []\n",
    "preds = []\n",
    "diffs = []\n",
    "\n",
    "from graph_data import ONE_HUNDRED_GEV\n",
    "\n",
    "t = tqdm.tqdm(enumerate(test_loader),total=test_samples/batch_size)\n",
    "for i, data in t:\n",
    "    data.to(device)\n",
    "    ys.append(data.y.cpu().numpy().squeeze()*ONE_HUNDRED_GEV)\n",
    "    preds.append(model(data).cpu().detach().numpy().squeeze()*ONE_HUNDRED_GEV)\n",
    "    \n",
    "ys = np.concatenate(ys)   \n",
    "preds = np.concatenate(preds)   \n",
    "diffs = (preds-ys)"
   ]
  },
  {
   "cell_type": "code",
   "execution_count": 11,
   "metadata": {},
   "outputs": [
    {
     "data": {
      "text/plain": [
       "Text(0, 0.5, 'Pred. EMD [GeV]')"
      ]
     },
     "execution_count": 11,
     "metadata": {},
     "output_type": "execute_result"
    },
    {
     "data": {
      "image/png": "[encoded data removed]",
      "text/plain": [
       "<Figure size 600x600 with 1 Axes>"
      ]
     },
     "metadata": {
      "needs_background": "light"
     },
     "output_type": "display_data"
    },
    {
     "data": {
      "image/png": "[encoded data removed]",
      "text/plain": [
       "<Figure size 600x600 with 1 Axes>"
      ]
     },
     "metadata": {
      "needs_background": "light"
     },
     "output_type": "display_data"
    },
    {
     "data": {
      "image/png": "[encoded data removed]",
      "text/plain": [
       "<Figure size 600x600 with 1 Axes>"
      ]
     },
     "metadata": {
      "needs_background": "light"
     },
     "output_type": "display_data"
    }
   ],
   "source": [
    "fig, ax = plt.subplots(figsize =(5, 5)) \n",
    "plt.hist(ys, bins=np.linspace(0, 300, 101),label='True', alpha=0.5)\n",
    "plt.hist(preds, bins=np.linspace(0, 300, 101),label = 'Pred.', alpha=0.5)\n",
    "plt.legend()\n",
    "ax.set_xlabel('EMD [GeV]') \n",
    "\n",
    "fig, ax = plt.subplots(figsize =(5, 5)) \n",
    "plt.hist(diffs, bins=np.linspace(-200, 200, 101))\n",
    "ax.set_xlabel('EMD diff. [GeV]')  \n",
    "\n",
    "fig, ax = plt.subplots(figsize =(5, 5)) \n",
    "x_bins = np.linspace(0, 300, 101)\n",
    "y_bins = np.linspace(0, 300, 101)\n",
    "plt.hist2d(ys, preds, bins=[x_bins,y_bins])\n",
    "ax.set_xlabel('True EMD [GeV]')  \n",
    "ax.set_ylabel('Pred. EMD [GeV]')"
   ]
  },
  {
   "cell_type": "code",
   "execution_count": null,
   "metadata": {},
   "outputs": [],
   "source": []
  }
 ],
 "metadata": {
  "kernelspec": {
   "display_name": "Python 3",
   "language": "python",
   "name": "python3"
  },
  "language_info": {
   "codemirror_mode": {
    "name": "ipython",
    "version": 3
   },
   "file_extension": ".py",
   "mimetype": "text/x-python",
   "name": "python",
   "nbconvert_exporter": "python",
   "pygments_lexer": "ipython3",
   "version": "3.7.6"
  }
 },
 "nbformat": 4,
 "nbformat_minor": 2
}
