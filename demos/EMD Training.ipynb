{
 "cells": [
  {
   "cell_type": "code",
   "execution_count": 1,
   "metadata": {},
   "outputs": [],
   "source": [
    "import numpy as np\n",
    "import math\n",
    "%matplotlib inline\n",
    "import matplotlib.pyplot as plt\n",
    "\n",
    "import energyflow as ef\n",
    "import torch\n",
    "import torch.nn as nn"
   ]
  },
  {
   "cell_type": "code",
   "execution_count": 2,
   "metadata": {},
   "outputs": [],
   "source": [
    "plt.rcParams['figure.figsize'] = (4,4)\n",
    "plt.rcParams['figure.dpi'] = 120\n",
    "plt.rcParams['font.family'] = 'serif'"
   ]
  },
  {
   "cell_type": "code",
   "execution_count": 3,
   "metadata": {},
   "outputs": [],
   "source": [
    "from graph_data import GraphDataset\n",
    "gdata = GraphDataset(root='/home/jovyan/.energyflow/datasets/')"
   ]
  },
  {
   "cell_type": "code",
   "execution_count": 4,
   "metadata": {},
   "outputs": [
    {
     "name": "stdout",
     "output_type": "stream",
     "text": [
      "tensor([[5.0082, 4.9424]])\n",
      "tensor([[2.2362]])\n",
      "tensor([[ 0,  0,  0,  ..., 17, 17, 17],\n",
      "        [18, 19, 20,  ..., 76, 77, 78]])\n",
      "tensor(1.)\n"
     ]
    },
    {
     "data": {
      "text/plain": [
       "10000"
      ]
     },
     "execution_count": 4,
     "metadata": {},
     "output_type": "execute_result"
    }
   ],
   "source": [
    "print(gdata[5].u)\n",
    "print(gdata[5].y)\n",
    "print(gdata[5].edge_index)\n",
    "print(sum(gdata[5].x[0:18,0]))\n",
    "len(gdata)"
   ]
  },
  {
   "cell_type": "code",
   "execution_count": 5,
   "metadata": {},
   "outputs": [],
   "source": [
    "from models import DynamicEdgeNet, EdgeNet"
   ]
  },
  {
   "cell_type": "code",
   "execution_count": 6,
   "metadata": {},
   "outputs": [],
   "source": [
    "input_dim = 3\n",
    "big_dim = 32\n",
    "bigger_dim = 128\n",
    "global_dim = 2\n",
    "output_dim = 1\n",
    "fulllen = len(gdata)\n",
    "tv_frac = 0.10\n",
    "tv_num = math.ceil(fulllen*tv_frac)\n",
    "batch_size = 128\n",
    "lr = 0.001\n",
    "device = 'cuda:0'\n",
    "model_fname = 'DynamicEdgeNet'\n",
    "\n",
    "model = DynamicEdgeNet(input_dim=input_dim, big_dim=big_dim, bigger_dim=bigger_dim, \n",
    "                global_dim=global_dim, output_dim=output_dim).to(device)\n",
    "optimizer = torch.optim.Adam(model.parameters(), lr = lr)"
   ]
  },
  {
   "cell_type": "code",
   "execution_count": 7,
   "metadata": {},
   "outputs": [
    {
     "name": "stdout",
     "output_type": "stream",
     "text": [
      "8000\n",
      "1000\n",
      "1000\n"
     ]
    }
   ],
   "source": [
    "from torch_geometric.data import Data, DataLoader\n",
    "from torch.utils.data import random_split\n",
    "train_dataset, valid_dataset, test_dataset = random_split(gdata, [fulllen-2*tv_num,tv_num,tv_num])\n",
    "\n",
    "train_loader = DataLoader(train_dataset, batch_size=batch_size, pin_memory=True, shuffle=True)\n",
    "valid_loader = DataLoader(valid_dataset, batch_size=batch_size, pin_memory=True, shuffle=False)\n",
    "test_loader = DataLoader(test_dataset, batch_size=batch_size, pin_memory=True, shuffle=False)\n",
    "\n",
    "train_samples = len(train_dataset)\n",
    "valid_samples = len(valid_dataset)\n",
    "test_samples = len(test_dataset)\n",
    "\n",
    "print(train_samples)\n",
    "print(valid_samples)\n",
    "print(test_samples)\n"
   ]
  },
  {
   "cell_type": "code",
   "execution_count": 8,
   "metadata": {},
   "outputs": [],
   "source": [
    "import tqdm\n",
    "@torch.no_grad()\n",
    "def test(model,loader,total,batch_size):\n",
    "    model.eval()\n",
    "    \n",
    "    mse = nn.MSELoss(reduction='mean')\n",
    "\n",
    "    sum_loss = 0.\n",
    "    t = tqdm.tqdm(enumerate(loader),total=total/batch_size)\n",
    "    for i,data in t:\n",
    "        data = data.to(device)\n",
    "        batch_output = model(data)\n",
    "        batch_loss_item = mse(batch_output, data.y).item()\n",
    "        sum_loss += batch_loss_item\n",
    "        t.set_description(\"loss = %.5f\" % (batch_loss_item))\n",
    "        t.refresh() # to show immediately the update\n",
    "\n",
    "    return sum_loss/(i+1)\n",
    "\n",
    "def train(model, optimizer, loader, total, batch_size):\n",
    "    model.train()\n",
    "    \n",
    "    mse = nn.MSELoss(reduction='mean')\n",
    "\n",
    "    sum_loss = 0.\n",
    "    t = tqdm.tqdm(enumerate(loader),total=total/batch_size)\n",
    "    for i,data in t:\n",
    "        data = data.to(device)\n",
    "        optimizer.zero_grad()\n",
    "        batch_output = model(data)\n",
    "        batch_loss = mse(batch_output, data.y)\n",
    "        batch_loss.backward()\n",
    "        batch_loss_item = batch_loss.item()\n",
    "        t.set_description(\"loss = %.5f\" % batch_loss_item)\n",
    "        t.refresh() # to show immediately the update\n",
    "        sum_loss += batch_loss_item\n",
    "        optimizer.step()\n",
    "    \n",
    "    return sum_loss/(i+1)"
   ]
  },
  {
   "cell_type": "code",
   "execution_count": null,
   "metadata": {},
   "outputs": [
    {
     "name": "stderr",
     "output_type": "stream",
     "text": [
      "loss = 0.29443: : 63it [00:46,  1.35it/s]                        \n",
      "loss = 0.27081:  90%|████████▉ | 7/7.8125 [00:05<00:00,  1.36it/s]/opt/conda/lib/python3.7/site-packages/tqdm/std.py:521: TqdmWarning: clamping frac to range [0, 1]\n",
      "  colour=colour)\n",
      "loss = 0.27081: 102%|██████████| 8/7.8125 [00:05<00:00,  1.39it/s]\n",
      "  0%|          | 0/62.5 [00:00<?, ?it/s]"
     ]
    },
    {
     "name": "stdout",
     "output_type": "stream",
     "text": [
      "Epoch: 00, Training Loss:   0.4132\n",
      "               Validation Loss: 0.2574\n",
      "New best model saved to: /home/jovyan/work/EnergyFlow/demos/DynamicEdgeNet.best.pth\n"
     ]
    },
    {
     "name": "stderr",
     "output_type": "stream",
     "text": [
      "loss = 0.17340: : 63it [00:44,  1.41it/s]                        \n",
      "loss = 0.13875: 102%|██████████| 8/7.8125 [00:05<00:00,  1.49it/s]\n",
      "  0%|          | 0/62.5 [00:00<?, ?it/s]"
     ]
    },
    {
     "name": "stdout",
     "output_type": "stream",
     "text": [
      "Epoch: 01, Training Loss:   0.2002\n",
      "               Validation Loss: 0.1320\n",
      "New best model saved to: /home/jovyan/work/EnergyFlow/demos/DynamicEdgeNet.best.pth\n"
     ]
    },
    {
     "name": "stderr",
     "output_type": "stream",
     "text": [
      "loss = 0.09229: : 63it [00:44,  1.42it/s]                        \n",
      "loss = 0.10228: 102%|██████████| 8/7.8125 [00:05<00:00,  1.48it/s]\n",
      "  0%|          | 0/62.5 [00:00<?, ?it/s]"
     ]
    },
    {
     "name": "stdout",
     "output_type": "stream",
     "text": [
      "Epoch: 02, Training Loss:   0.1165\n",
      "               Validation Loss: 0.0867\n",
      "New best model saved to: /home/jovyan/work/EnergyFlow/demos/DynamicEdgeNet.best.pth\n"
     ]
    },
    {
     "name": "stderr",
     "output_type": "stream",
     "text": [
      "loss = 0.07084: : 63it [00:44,  1.40it/s]                        \n",
      "loss = 0.08594: 102%|██████████| 8/7.8125 [00:05<00:00,  1.47it/s]\n",
      "  0%|          | 0/62.5 [00:00<?, ?it/s]"
     ]
    },
    {
     "name": "stdout",
     "output_type": "stream",
     "text": [
      "Epoch: 03, Training Loss:   0.0959\n",
      "               Validation Loss: 0.0737\n",
      "New best model saved to: /home/jovyan/work/EnergyFlow/demos/DynamicEdgeNet.best.pth\n"
     ]
    },
    {
     "name": "stderr",
     "output_type": "stream",
     "text": [
      "loss = 0.05687: : 63it [00:44,  1.41it/s]                        \n",
      "loss = 0.07721: 102%|██████████| 8/7.8125 [00:05<00:00,  1.48it/s]\n",
      "  0%|          | 0/62.5 [00:00<?, ?it/s]"
     ]
    },
    {
     "name": "stdout",
     "output_type": "stream",
     "text": [
      "Epoch: 04, Training Loss:   0.0847\n",
      "               Validation Loss: 0.0640\n",
      "New best model saved to: /home/jovyan/work/EnergyFlow/demos/DynamicEdgeNet.best.pth\n"
     ]
    },
    {
     "name": "stderr",
     "output_type": "stream",
     "text": [
      "loss = 0.05059: : 63it [00:45,  1.40it/s]                        \n",
      "loss = 0.07117: 102%|██████████| 8/7.8125 [00:05<00:00,  1.47it/s]\n",
      "  0%|          | 0/62.5 [00:00<?, ?it/s]"
     ]
    },
    {
     "name": "stdout",
     "output_type": "stream",
     "text": [
      "Epoch: 05, Training Loss:   0.0788\n",
      "               Validation Loss: 0.0610\n",
      "New best model saved to: /home/jovyan/work/EnergyFlow/demos/DynamicEdgeNet.best.pth\n"
     ]
    },
    {
     "name": "stderr",
     "output_type": "stream",
     "text": [
      "loss = 0.05905: : 63it [00:45,  1.40it/s]                        \n",
      "loss = 0.06201: 102%|██████████| 8/7.8125 [00:05<00:00,  1.50it/s]\n",
      "  0%|          | 0/62.5 [00:00<?, ?it/s]"
     ]
    },
    {
     "name": "stdout",
     "output_type": "stream",
     "text": [
      "Epoch: 06, Training Loss:   0.0741\n",
      "               Validation Loss: 0.0549\n",
      "New best model saved to: /home/jovyan/work/EnergyFlow/demos/DynamicEdgeNet.best.pth\n"
     ]
    },
    {
     "name": "stderr",
     "output_type": "stream",
     "text": [
      "loss = 0.05652: : 63it [00:44,  1.41it/s]                        \n",
      "loss = 0.05739: 102%|██████████| 8/7.8125 [00:05<00:00,  1.45it/s]\n",
      "  0%|          | 0/62.5 [00:00<?, ?it/s]"
     ]
    },
    {
     "name": "stdout",
     "output_type": "stream",
     "text": [
      "Epoch: 07, Training Loss:   0.0666\n",
      "               Validation Loss: 0.0479\n",
      "New best model saved to: /home/jovyan/work/EnergyFlow/demos/DynamicEdgeNet.best.pth\n"
     ]
    },
    {
     "name": "stderr",
     "output_type": "stream",
     "text": [
      "loss = 0.03782: : 63it [00:44,  1.41it/s]                        \n",
      "loss = 0.05398: 102%|██████████| 8/7.8125 [00:05<00:00,  1.48it/s]\n",
      "  0%|          | 0/62.5 [00:00<?, ?it/s]"
     ]
    },
    {
     "name": "stdout",
     "output_type": "stream",
     "text": [
      "Epoch: 08, Training Loss:   0.0609\n",
      "               Validation Loss: 0.0496\n",
      "Stale epoch\n"
     ]
    },
    {
     "name": "stderr",
     "output_type": "stream",
     "text": [
      "loss = 0.04133: : 63it [00:44,  1.40it/s]                        \n",
      "loss = 0.05782: 102%|██████████| 8/7.8125 [00:05<00:00,  1.47it/s]\n",
      "  0%|          | 0/62.5 [00:00<?, ?it/s]"
     ]
    },
    {
     "name": "stdout",
     "output_type": "stream",
     "text": [
      "Epoch: 09, Training Loss:   0.0579\n",
      "               Validation Loss: 0.0555\n",
      "Stale epoch\n"
     ]
    },
    {
     "name": "stderr",
     "output_type": "stream",
     "text": [
      "loss = 0.03617: : 63it [00:44,  1.40it/s]                        \n",
      "loss = 0.05330: 102%|██████████| 8/7.8125 [00:05<00:00,  1.46it/s]\n",
      "  0%|          | 0/62.5 [00:00<?, ?it/s]"
     ]
    },
    {
     "name": "stdout",
     "output_type": "stream",
     "text": [
      "Epoch: 10, Training Loss:   0.0537\n",
      "               Validation Loss: 0.0448\n",
      "New best model saved to: /home/jovyan/work/EnergyFlow/demos/DynamicEdgeNet.best.pth\n"
     ]
    },
    {
     "name": "stderr",
     "output_type": "stream",
     "text": [
      "loss = 0.07779: : 63it [00:45,  1.39it/s]                        \n",
      "loss = 0.04260: 102%|██████████| 8/7.8125 [00:05<00:00,  1.46it/s]\n",
      "  0%|          | 0/62.5 [00:00<?, ?it/s]"
     ]
    },
    {
     "name": "stdout",
     "output_type": "stream",
     "text": [
      "Epoch: 11, Training Loss:   0.0511\n",
      "               Validation Loss: 0.0390\n",
      "New best model saved to: /home/jovyan/work/EnergyFlow/demos/DynamicEdgeNet.best.pth\n"
     ]
    },
    {
     "name": "stderr",
     "output_type": "stream",
     "text": [
      "loss = 0.06023: : 63it [00:45,  1.39it/s]                        \n",
      "loss = 0.03815: 102%|██████████| 8/7.8125 [00:05<00:00,  1.45it/s]\n",
      "  0%|          | 0/62.5 [00:00<?, ?it/s]"
     ]
    },
    {
     "name": "stdout",
     "output_type": "stream",
     "text": [
      "Epoch: 12, Training Loss:   0.0491\n",
      "               Validation Loss: 0.0358\n",
      "New best model saved to: /home/jovyan/work/EnergyFlow/demos/DynamicEdgeNet.best.pth\n"
     ]
    },
    {
     "name": "stderr",
     "output_type": "stream",
     "text": [
      "loss = 0.03276: : 63it [00:45,  1.38it/s]                        \n",
      "loss = 0.03648: 102%|██████████| 8/7.8125 [00:05<00:00,  1.45it/s]\n",
      "  0%|          | 0/62.5 [00:00<?, ?it/s]"
     ]
    },
    {
     "name": "stdout",
     "output_type": "stream",
     "text": [
      "Epoch: 13, Training Loss:   0.0502\n",
      "               Validation Loss: 0.0347\n",
      "New best model saved to: /home/jovyan/work/EnergyFlow/demos/DynamicEdgeNet.best.pth\n"
     ]
    },
    {
     "name": "stderr",
     "output_type": "stream",
     "text": [
      "loss = 0.03486: : 63it [00:45,  1.38it/s]                        \n",
      "loss = 0.03845: 102%|██████████| 8/7.8125 [00:05<00:00,  1.40it/s]\n",
      "  0%|          | 0/62.5 [00:00<?, ?it/s]"
     ]
    },
    {
     "name": "stdout",
     "output_type": "stream",
     "text": [
      "Epoch: 14, Training Loss:   0.0473\n",
      "               Validation Loss: 0.0340\n",
      "New best model saved to: /home/jovyan/work/EnergyFlow/demos/DynamicEdgeNet.best.pth\n"
     ]
    },
    {
     "name": "stderr",
     "output_type": "stream",
     "text": [
      "loss = 0.12903: : 63it [00:44,  1.40it/s]                        \n",
      "loss = 0.03676: 102%|██████████| 8/7.8125 [00:05<00:00,  1.47it/s]\n",
      "  0%|          | 0/62.5 [00:00<?, ?it/s]"
     ]
    },
    {
     "name": "stdout",
     "output_type": "stream",
     "text": [
      "Epoch: 15, Training Loss:   0.0442\n",
      "               Validation Loss: 0.0353\n",
      "Stale epoch\n"
     ]
    },
    {
     "name": "stderr",
     "output_type": "stream",
     "text": [
      "loss = 0.02813: : 63it [00:45,  1.40it/s]                        \n",
      "loss = 0.03632: 102%|██████████| 8/7.8125 [00:05<00:00,  1.45it/s]\n",
      "  0%|          | 0/62.5 [00:00<?, ?it/s]"
     ]
    },
    {
     "name": "stdout",
     "output_type": "stream",
     "text": [
      "Epoch: 16, Training Loss:   0.0473\n",
      "               Validation Loss: 0.0352\n",
      "Stale epoch\n"
     ]
    },
    {
     "name": "stderr",
     "output_type": "stream",
     "text": [
      "loss = 0.08713: : 63it [00:45,  1.40it/s]                        \n",
      "loss = 0.03182: 102%|██████████| 8/7.8125 [00:05<00:00,  1.46it/s]\n",
      "  0%|          | 0/62.5 [00:00<?, ?it/s]"
     ]
    },
    {
     "name": "stdout",
     "output_type": "stream",
     "text": [
      "Epoch: 19, Training Loss:   0.0412\n",
      "               Validation Loss: 0.0310\n",
      "Stale epoch\n"
     ]
    },
    {
     "name": "stderr",
     "output_type": "stream",
     "text": [
      "loss = 0.03292: : 63it [00:45,  1.38it/s]                        \n",
      "loss = 0.03364: 102%|██████████| 8/7.8125 [00:05<00:00,  1.47it/s]\n",
      "  0%|          | 0/62.5 [00:00<?, ?it/s]"
     ]
    },
    {
     "name": "stdout",
     "output_type": "stream",
     "text": [
      "Epoch: 20, Training Loss:   0.0383\n",
      "               Validation Loss: 0.0350\n",
      "Stale epoch\n"
     ]
    },
    {
     "name": "stderr",
     "output_type": "stream",
     "text": [
      "loss = 0.03756: : 63it [00:45,  1.40it/s]                        \n",
      "loss = 0.02956: 102%|██████████| 8/7.8125 [00:05<00:00,  1.46it/s]\n",
      "  0%|          | 0/62.5 [00:00<?, ?it/s]"
     ]
    },
    {
     "name": "stdout",
     "output_type": "stream",
     "text": [
      "Epoch: 21, Training Loss:   0.0416\n",
      "               Validation Loss: 0.0282\n",
      "New best model saved to: /home/jovyan/work/EnergyFlow/demos/DynamicEdgeNet.best.pth\n"
     ]
    },
    {
     "name": "stderr",
     "output_type": "stream",
     "text": [
      "loss = 0.02745: : 63it [00:45,  1.40it/s]                        \n",
      "loss = 0.02994: 102%|██████████| 8/7.8125 [00:05<00:00,  1.45it/s]\n",
      "  0%|          | 0/62.5 [00:00<?, ?it/s]"
     ]
    },
    {
     "name": "stdout",
     "output_type": "stream",
     "text": [
      "Epoch: 22, Training Loss:   0.0368\n",
      "               Validation Loss: 0.0278\n",
      "New best model saved to: /home/jovyan/work/EnergyFlow/demos/DynamicEdgeNet.best.pth\n"
     ]
    },
    {
     "name": "stderr",
     "output_type": "stream",
     "text": [
      "loss = 0.04227: : 63it [00:45,  1.39it/s]                        \n",
      "loss = 0.03036: 102%|██████████| 8/7.8125 [00:05<00:00,  1.46it/s]\n",
      "  0%|          | 0/62.5 [00:00<?, ?it/s]"
     ]
    },
    {
     "name": "stdout",
     "output_type": "stream",
     "text": [
      "Epoch: 23, Training Loss:   0.0398\n",
      "               Validation Loss: 0.0281\n",
      "Stale epoch\n"
     ]
    },
    {
     "name": "stderr",
     "output_type": "stream",
     "text": [
      "loss = 0.02073: : 63it [00:45,  1.38it/s]                        \n",
      "loss = 0.04459: 102%|██████████| 8/7.8125 [00:05<00:00,  1.44it/s]\n",
      "  0%|          | 0/62.5 [00:00<?, ?it/s]"
     ]
    },
    {
     "name": "stdout",
     "output_type": "stream",
     "text": [
      "Epoch: 24, Training Loss:   0.0370\n",
      "               Validation Loss: 0.0387\n",
      "Stale epoch\n"
     ]
    },
    {
     "name": "stderr",
     "output_type": "stream",
     "text": [
      "loss = 0.02239: : 63it [00:45,  1.39it/s]                        \n",
      "loss = 0.03153: 102%|██████████| 8/7.8125 [00:05<00:00,  1.46it/s]\n",
      "  0%|          | 0/62.5 [00:00<?, ?it/s]"
     ]
    },
    {
     "name": "stdout",
     "output_type": "stream",
     "text": [
      "Epoch: 25, Training Loss:   0.0371\n",
      "               Validation Loss: 0.0289\n",
      "Stale epoch\n"
     ]
    },
    {
     "name": "stderr",
     "output_type": "stream",
     "text": [
      "loss = 0.03648: : 63it [00:45,  1.40it/s]                        \n",
      "loss = 0.03242: 102%|██████████| 8/7.8125 [00:05<00:00,  1.46it/s]\n",
      "  0%|          | 0/62.5 [00:00<?, ?it/s]"
     ]
    },
    {
     "name": "stdout",
     "output_type": "stream",
     "text": [
      "Epoch: 26, Training Loss:   0.0375\n",
      "               Validation Loss: 0.0283\n",
      "Stale epoch\n"
     ]
    },
    {
     "name": "stderr",
     "output_type": "stream",
     "text": [
      "loss = 0.02625: : 63it [00:44,  1.41it/s]                        \n",
      "loss = 0.03260: 102%|██████████| 8/7.8125 [00:05<00:00,  1.45it/s]\n",
      "  0%|          | 0/62.5 [00:00<?, ?it/s]"
     ]
    },
    {
     "name": "stdout",
     "output_type": "stream",
     "text": [
      "Epoch: 27, Training Loss:   0.0357\n",
      "               Validation Loss: 0.0332\n",
      "Stale epoch\n"
     ]
    },
    {
     "name": "stderr",
     "output_type": "stream",
     "text": [
      "loss = 0.03090: : 63it [00:44,  1.40it/s]                        \n",
      "loss = 0.02855: 102%|██████████| 8/7.8125 [00:05<00:00,  1.44it/s]\n",
      "  0%|          | 0/62.5 [00:00<?, ?it/s]"
     ]
    },
    {
     "name": "stdout",
     "output_type": "stream",
     "text": [
      "Epoch: 28, Training Loss:   0.0342\n",
      "               Validation Loss: 0.0273\n",
      "New best model saved to: /home/jovyan/work/EnergyFlow/demos/DynamicEdgeNet.best.pth\n"
     ]
    },
    {
     "name": "stderr",
     "output_type": "stream",
     "text": [
      "loss = 0.04126: : 63it [00:44,  1.43it/s]                        \n",
      "loss = 0.02725: 102%|██████████| 8/7.8125 [00:05<00:00,  1.48it/s]\n",
      "  0%|          | 0/62.5 [00:00<?, ?it/s]"
     ]
    },
    {
     "name": "stdout",
     "output_type": "stream",
     "text": [
      "Epoch: 29, Training Loss:   0.0325\n",
      "               Validation Loss: 0.0275\n",
      "Stale epoch\n"
     ]
    },
    {
     "name": "stderr",
     "output_type": "stream",
     "text": [
      "loss = 0.03097: : 63it [00:44,  1.43it/s]                        \n",
      "loss = 0.02769: 102%|██████████| 8/7.8125 [00:05<00:00,  1.48it/s]\n",
      "  0%|          | 0/62.5 [00:00<?, ?it/s]"
     ]
    },
    {
     "name": "stdout",
     "output_type": "stream",
     "text": [
      "Epoch: 30, Training Loss:   0.0319\n",
      "               Validation Loss: 0.0257\n",
      "New best model saved to: /home/jovyan/work/EnergyFlow/demos/DynamicEdgeNet.best.pth\n"
     ]
    },
    {
     "name": "stderr",
     "output_type": "stream",
     "text": [
      "loss = 0.02305: : 63it [00:44,  1.42it/s]                        \n",
      "loss = 0.02710: 102%|██████████| 8/7.8125 [00:05<00:00,  1.48it/s]\n",
      "  0%|          | 0/62.5 [00:00<?, ?it/s]"
     ]
    },
    {
     "name": "stdout",
     "output_type": "stream",
     "text": [
      "Epoch: 31, Training Loss:   0.0312\n",
      "               Validation Loss: 0.0252\n",
      "New best model saved to: /home/jovyan/work/EnergyFlow/demos/DynamicEdgeNet.best.pth\n"
     ]
    },
    {
     "name": "stderr",
     "output_type": "stream",
     "text": [
      "loss = 0.06183: : 63it [00:44,  1.42it/s]                        \n",
      "loss = 0.02660: 102%|██████████| 8/7.8125 [00:05<00:00,  1.47it/s]\n",
      "  0%|          | 0/62.5 [00:00<?, ?it/s]"
     ]
    },
    {
     "name": "stdout",
     "output_type": "stream",
     "text": [
      "Epoch: 32, Training Loss:   0.0334\n",
      "               Validation Loss: 0.0244\n",
      "New best model saved to: /home/jovyan/work/EnergyFlow/demos/DynamicEdgeNet.best.pth\n"
     ]
    },
    {
     "name": "stderr",
     "output_type": "stream",
     "text": [
      "loss = 0.05243:  54%|█████▍    | 34/62.5 [00:25<00:20,  1.39it/s]IOPub message rate exceeded.\n",
      "The notebook server will temporarily stop sending output\n",
      "to the client in order to avoid crashing it.\n",
      "To change this limit, set the config variable\n",
      "`--NotebookApp.iopub_msg_rate_limit`.\n",
      "\n",
      "Current values:\n",
      "NotebookApp.iopub_msg_rate_limit=1000.0 (msgs/sec)\n",
      "NotebookApp.rate_limit_window=3.0 (secs)\n",
      "\n",
      "loss = 0.01663: : 63it [00:44,  1.41it/s]                        \n",
      "loss = 0.02853: 102%|██████████| 8/7.8125 [00:05<00:00,  1.45it/s]\n",
      "  0%|          | 0/62.5 [00:00<?, ?it/s]"
     ]
    },
    {
     "name": "stdout",
     "output_type": "stream",
     "text": [
      "Epoch: 47, Training Loss:   0.0259\n",
      "               Validation Loss: 0.0224\n",
      "Stale epoch\n"
     ]
    },
    {
     "name": "stderr",
     "output_type": "stream",
     "text": [
      "loss = 0.03043: : 63it [00:45,  1.40it/s]                        \n",
      "loss = 0.02833: 102%|██████████| 8/7.8125 [00:05<00:00,  1.45it/s]\n",
      "  0%|          | 0/62.5 [00:00<?, ?it/s]"
     ]
    },
    {
     "name": "stdout",
     "output_type": "stream",
     "text": [
      "Epoch: 48, Training Loss:   0.0260\n",
      "               Validation Loss: 0.0263\n",
      "Stale epoch\n"
     ]
    },
    {
     "name": "stderr",
     "output_type": "stream",
     "text": [
      "loss = 0.01908: : 63it [00:44,  1.40it/s]                        \n",
      "loss = 0.02483: 102%|██████████| 8/7.8125 [00:05<00:00,  1.46it/s]\n",
      "  0%|          | 0/62.5 [00:00<?, ?it/s]"
     ]
    },
    {
     "name": "stdout",
     "output_type": "stream",
     "text": [
      "Epoch: 49, Training Loss:   0.0257\n",
      "               Validation Loss: 0.0199\n",
      "New best model saved to: /home/jovyan/work/EnergyFlow/demos/DynamicEdgeNet.best.pth\n"
     ]
    },
    {
     "name": "stderr",
     "output_type": "stream",
     "text": [
      "loss = 0.02160: : 63it [00:44,  1.41it/s]                        \n",
      "loss = 0.02797: 102%|██████████| 8/7.8125 [00:05<00:00,  1.46it/s]\n",
      "  0%|          | 0/62.5 [00:00<?, ?it/s]"
     ]
    },
    {
     "name": "stdout",
     "output_type": "stream",
     "text": [
      "Epoch: 50, Training Loss:   0.0235\n",
      "               Validation Loss: 0.0213\n",
      "Stale epoch\n"
     ]
    },
    {
     "name": "stderr",
     "output_type": "stream",
     "text": [
      "loss = 0.01618: : 63it [00:44,  1.41it/s]                        \n",
      "loss = 0.02904: 102%|██████████| 8/7.8125 [00:05<00:00,  1.44it/s]\n",
      "  0%|          | 0/62.5 [00:00<?, ?it/s]"
     ]
    },
    {
     "name": "stdout",
     "output_type": "stream",
     "text": [
      "Epoch: 51, Training Loss:   0.0264\n",
      "               Validation Loss: 0.0245\n",
      "Stale epoch\n"
     ]
    },
    {
     "name": "stderr",
     "output_type": "stream",
     "text": [
      "loss = 0.02325: : 63it [00:44,  1.40it/s]                        \n",
      "loss = 0.02607: 102%|██████████| 8/7.8125 [00:05<00:00,  1.44it/s]\n",
      "  0%|          | 0/62.5 [00:00<?, ?it/s]"
     ]
    },
    {
     "name": "stdout",
     "output_type": "stream",
     "text": [
      "Epoch: 52, Training Loss:   0.0242\n",
      "               Validation Loss: 0.0231\n",
      "Stale epoch\n"
     ]
    },
    {
     "name": "stderr",
     "output_type": "stream",
     "text": [
      "loss = 0.01391: : 63it [00:44,  1.40it/s]                        \n",
      "loss = 0.02294: 102%|██████████| 8/7.8125 [00:05<00:00,  1.45it/s]\n",
      "  0%|          | 0/62.5 [00:00<?, ?it/s]"
     ]
    },
    {
     "name": "stdout",
     "output_type": "stream",
     "text": [
      "Epoch: 53, Training Loss:   0.0245\n",
      "               Validation Loss: 0.0193\n",
      "New best model saved to: /home/jovyan/work/EnergyFlow/demos/DynamicEdgeNet.best.pth\n"
     ]
    },
    {
     "name": "stderr",
     "output_type": "stream",
     "text": [
      "loss = 0.02198: : 63it [00:45,  1.39it/s]                        \n",
      "loss = 0.03034: 102%|██████████| 8/7.8125 [00:05<00:00,  1.44it/s]\n",
      "  0%|          | 0/62.5 [00:00<?, ?it/s]"
     ]
    },
    {
     "name": "stdout",
     "output_type": "stream",
     "text": [
      "Epoch: 54, Training Loss:   0.0239\n",
      "               Validation Loss: 0.0248\n",
      "Stale epoch\n"
     ]
    },
    {
     "name": "stderr",
     "output_type": "stream",
     "text": [
      "loss = 0.02046: : 63it [00:45,  1.38it/s]                        \n",
      "loss = 0.02375: 102%|██████████| 8/7.8125 [00:05<00:00,  1.44it/s]\n",
      "  0%|          | 0/62.5 [00:00<?, ?it/s]"
     ]
    },
    {
     "name": "stdout",
     "output_type": "stream",
     "text": [
      "Epoch: 55, Training Loss:   0.0230\n",
      "               Validation Loss: 0.0188\n",
      "New best model saved to: /home/jovyan/work/EnergyFlow/demos/DynamicEdgeNet.best.pth\n"
     ]
    },
    {
     "name": "stderr",
     "output_type": "stream",
     "text": [
      "loss = 0.04456: : 63it [00:45,  1.39it/s]                        \n",
      "loss = 0.02861: 102%|██████████| 8/7.8125 [00:05<00:00,  1.39it/s]\n",
      "  0%|          | 0/62.5 [00:00<?, ?it/s]"
     ]
    },
    {
     "name": "stdout",
     "output_type": "stream",
     "text": [
      "Epoch: 56, Training Loss:   0.0262\n",
      "               Validation Loss: 0.0216\n",
      "Stale epoch\n"
     ]
    },
    {
     "name": "stderr",
     "output_type": "stream",
     "text": [
      "loss = 0.02340: : 63it [00:45,  1.39it/s]                        \n",
      "loss = 0.02598: 102%|██████████| 8/7.8125 [00:05<00:00,  1.45it/s]\n",
      "  0%|          | 0/62.5 [00:00<?, ?it/s]"
     ]
    },
    {
     "name": "stdout",
     "output_type": "stream",
     "text": [
      "Epoch: 57, Training Loss:   0.0215\n",
      "               Validation Loss: 0.0214\n",
      "Stale epoch\n"
     ]
    },
    {
     "name": "stderr",
     "output_type": "stream",
     "text": [
      "loss = 0.02035: : 63it [00:45,  1.39it/s]                        \n",
      "loss = 0.02285: 102%|██████████| 8/7.8125 [00:05<00:00,  1.45it/s]\n",
      "  0%|          | 0/62.5 [00:00<?, ?it/s]"
     ]
    },
    {
     "name": "stdout",
     "output_type": "stream",
     "text": [
      "Epoch: 58, Training Loss:   0.0225\n",
      "               Validation Loss: 0.0206\n",
      "Stale epoch\n"
     ]
    },
    {
     "name": "stderr",
     "output_type": "stream",
     "text": [
      "loss = 0.04128: : 63it [00:45,  1.40it/s]                        \n",
      "loss = 0.02430: 102%|██████████| 8/7.8125 [00:05<00:00,  1.45it/s]\n",
      "  0%|          | 0/62.5 [00:00<?, ?it/s]"
     ]
    },
    {
     "name": "stdout",
     "output_type": "stream",
     "text": [
      "Epoch: 59, Training Loss:   0.0231\n",
      "               Validation Loss: 0.0192\n",
      "Stale epoch\n"
     ]
    },
    {
     "name": "stderr",
     "output_type": "stream",
     "text": [
      "loss = 0.01672: : 63it [00:44,  1.40it/s]                        \n",
      "loss = 0.03292: 102%|██████████| 8/7.8125 [00:05<00:00,  1.43it/s]\n",
      "  0%|          | 0/62.5 [00:00<?, ?it/s]"
     ]
    },
    {
     "name": "stdout",
     "output_type": "stream",
     "text": [
      "Epoch: 60, Training Loss:   0.0209\n",
      "               Validation Loss: 0.0306\n",
      "Stale epoch\n"
     ]
    },
    {
     "name": "stderr",
     "output_type": "stream",
     "text": [
      "loss = 0.01770: : 63it [00:45,  1.39it/s]                        \n",
      "loss = 0.02171: 102%|██████████| 8/7.8125 [00:05<00:00,  1.43it/s]\n",
      "  0%|          | 0/62.5 [00:00<?, ?it/s]"
     ]
    },
    {
     "name": "stdout",
     "output_type": "stream",
     "text": [
      "Epoch: 61, Training Loss:   0.0210\n",
      "               Validation Loss: 0.0183\n",
      "New best model saved to: /home/jovyan/work/EnergyFlow/demos/DynamicEdgeNet.best.pth\n"
     ]
    },
    {
     "name": "stderr",
     "output_type": "stream",
     "text": [
      "loss = 0.02317: : 63it [00:45,  1.39it/s]                        \n",
      "loss = 0.02247: 102%|██████████| 8/7.8125 [00:05<00:00,  1.45it/s]\n",
      "  0%|          | 0/62.5 [00:00<?, ?it/s]"
     ]
    },
    {
     "name": "stdout",
     "output_type": "stream",
     "text": [
      "Epoch: 62, Training Loss:   0.0219\n",
      "               Validation Loss: 0.0198\n",
      "Stale epoch\n"
     ]
    },
    {
     "name": "stderr",
     "output_type": "stream",
     "text": [
      "loss = 0.02804: : 63it [00:44,  1.40it/s]                        \n",
      "loss = 0.02788: 102%|██████████| 8/7.8125 [00:05<00:00,  1.44it/s]\n",
      "  0%|          | 0/62.5 [00:00<?, ?it/s]"
     ]
    },
    {
     "name": "stdout",
     "output_type": "stream",
     "text": [
      "Epoch: 63, Training Loss:   0.0243\n",
      "               Validation Loss: 0.0212\n",
      "Stale epoch\n"
     ]
    },
    {
     "name": "stderr",
     "output_type": "stream",
     "text": [
      "loss = 0.01188: : 63it [00:45,  1.40it/s]                        \n",
      "loss = 0.02354: 102%|██████████| 8/7.8125 [00:05<00:00,  1.45it/s]\n",
      "  0%|          | 0/62.5 [00:00<?, ?it/s]"
     ]
    },
    {
     "name": "stdout",
     "output_type": "stream",
     "text": [
      "Epoch: 64, Training Loss:   0.0207\n",
      "               Validation Loss: 0.0181\n",
      "New best model saved to: /home/jovyan/work/EnergyFlow/demos/DynamicEdgeNet.best.pth\n"
     ]
    },
    {
     "name": "stderr",
     "output_type": "stream",
     "text": [
      "loss = 0.01945: : 63it [00:45,  1.40it/s]                        \n",
      "loss = 0.02125: 102%|██████████| 8/7.8125 [00:05<00:00,  1.44it/s]\n",
      "  0%|          | 0/62.5 [00:00<?, ?it/s]"
     ]
    },
    {
     "name": "stdout",
     "output_type": "stream",
     "text": [
      "Epoch: 65, Training Loss:   0.0197\n",
      "               Validation Loss: 0.0177\n",
      "New best model saved to: /home/jovyan/work/EnergyFlow/demos/DynamicEdgeNet.best.pth\n"
     ]
    },
    {
     "name": "stderr",
     "output_type": "stream",
     "text": [
      "loss = 0.01229: : 63it [00:45,  1.40it/s]                        \n",
      "loss = 0.02147: 102%|██████████| 8/7.8125 [00:05<00:00,  1.45it/s]\n",
      "  0%|          | 0/62.5 [00:00<?, ?it/s]"
     ]
    },
    {
     "name": "stdout",
     "output_type": "stream",
     "text": [
      "Epoch: 66, Training Loss:   0.0208\n",
      "               Validation Loss: 0.0170\n",
      "New best model saved to: /home/jovyan/work/EnergyFlow/demos/DynamicEdgeNet.best.pth\n"
     ]
    },
    {
     "name": "stderr",
     "output_type": "stream",
     "text": [
      "loss = 0.01465: : 63it [00:46,  1.36it/s]                        \n",
      "loss = 0.02306: 102%|██████████| 8/7.8125 [00:05<00:00,  1.40it/s]\n",
      "  0%|          | 0/62.5 [00:00<?, ?it/s]"
     ]
    },
    {
     "name": "stdout",
     "output_type": "stream",
     "text": [
      "Epoch: 67, Training Loss:   0.0205\n",
      "               Validation Loss: 0.0181\n",
      "Stale epoch\n"
     ]
    },
    {
     "name": "stderr",
     "output_type": "stream",
     "text": [
      "loss = 0.01766: : 63it [00:45,  1.38it/s]                        \n",
      "loss = 0.02035: 102%|██████████| 8/7.8125 [00:05<00:00,  1.43it/s]\n",
      "  0%|          | 0/62.5 [00:00<?, ?it/s]"
     ]
    },
    {
     "name": "stdout",
     "output_type": "stream",
     "text": [
      "Epoch: 68, Training Loss:   0.0203\n",
      "               Validation Loss: 0.0166\n",
      "New best model saved to: /home/jovyan/work/EnergyFlow/demos/DynamicEdgeNet.best.pth\n"
     ]
    },
    {
     "name": "stderr",
     "output_type": "stream",
     "text": [
      "loss = 0.03104: : 63it [00:45,  1.37it/s]                        \n",
      "loss = 0.02191: 102%|██████████| 8/7.8125 [00:05<00:00,  1.42it/s]\n",
      "  0%|          | 0/62.5 [00:00<?, ?it/s]"
     ]
    },
    {
     "name": "stdout",
     "output_type": "stream",
     "text": [
      "Epoch: 69, Training Loss:   0.0186\n",
      "               Validation Loss: 0.0200\n",
      "Stale epoch\n"
     ]
    },
    {
     "name": "stderr",
     "output_type": "stream",
     "text": [
      "loss = 0.01137: : 63it [00:45,  1.38it/s]                        \n",
      "loss = 0.02226: 102%|██████████| 8/7.8125 [00:05<00:00,  1.38it/s]\n",
      "  0%|          | 0/62.5 [00:00<?, ?it/s]"
     ]
    },
    {
     "name": "stdout",
     "output_type": "stream",
     "text": [
      "Epoch: 70, Training Loss:   0.0199\n",
      "               Validation Loss: 0.0175\n",
      "Stale epoch\n"
     ]
    },
    {
     "name": "stderr",
     "output_type": "stream",
     "text": [
      "loss = 0.01816: : 63it [00:45,  1.39it/s]                        \n",
      "loss = 0.02163: 102%|██████████| 8/7.8125 [00:05<00:00,  1.44it/s]\n",
      "  0%|          | 0/62.5 [00:00<?, ?it/s]"
     ]
    },
    {
     "name": "stdout",
     "output_type": "stream",
     "text": [
      "Epoch: 71, Training Loss:   0.0193\n",
      "               Validation Loss: 0.0185\n",
      "Stale epoch\n"
     ]
    },
    {
     "name": "stderr",
     "output_type": "stream",
     "text": [
      "loss = 0.01362: : 63it [00:45,  1.39it/s]                        \n",
      "loss = 0.02042: 102%|██████████| 8/7.8125 [00:05<00:00,  1.44it/s]\n",
      "  0%|          | 0/62.5 [00:00<?, ?it/s]"
     ]
    },
    {
     "name": "stdout",
     "output_type": "stream",
     "text": [
      "Epoch: 72, Training Loss:   0.0200\n",
      "               Validation Loss: 0.0161\n",
      "New best model saved to: /home/jovyan/work/EnergyFlow/demos/DynamicEdgeNet.best.pth\n"
     ]
    },
    {
     "name": "stderr",
     "output_type": "stream",
     "text": [
      "loss = 0.01887: : 63it [00:45,  1.40it/s]                        \n",
      "loss = 0.01948: 102%|██████████| 8/7.8125 [00:05<00:00,  1.45it/s]\n",
      "  0%|          | 0/62.5 [00:00<?, ?it/s]"
     ]
    },
    {
     "name": "stdout",
     "output_type": "stream",
     "text": [
      "Epoch: 73, Training Loss:   0.0199\n",
      "               Validation Loss: 0.0171\n",
      "Stale epoch\n"
     ]
    },
    {
     "name": "stderr",
     "output_type": "stream",
     "text": [
      "loss = 0.02976: : 63it [00:45,  1.40it/s]                        \n",
      "loss = 0.02042: 102%|██████████| 8/7.8125 [00:05<00:00,  1.44it/s]\n",
      "  0%|          | 0/62.5 [00:00<?, ?it/s]"
     ]
    },
    {
     "name": "stdout",
     "output_type": "stream",
     "text": [
      "Epoch: 74, Training Loss:   0.0206\n",
      "               Validation Loss: 0.0156\n",
      "New best model saved to: /home/jovyan/work/EnergyFlow/demos/DynamicEdgeNet.best.pth\n"
     ]
    },
    {
     "name": "stderr",
     "output_type": "stream",
     "text": [
      "loss = 0.01494: : 63it [00:45,  1.40it/s]                        \n",
      "loss = 0.02036: 102%|██████████| 8/7.8125 [00:05<00:00,  1.44it/s]\n",
      "  0%|          | 0/62.5 [00:00<?, ?it/s]"
     ]
    },
    {
     "name": "stdout",
     "output_type": "stream",
     "text": [
      "Epoch: 75, Training Loss:   0.0176\n",
      "               Validation Loss: 0.0182\n",
      "Stale epoch\n"
     ]
    },
    {
     "name": "stderr",
     "output_type": "stream",
     "text": [
      "loss = 0.01003: : 63it [00:45,  1.39it/s]                        \n",
      "loss = 0.02203: 102%|██████████| 8/7.8125 [00:05<00:00,  1.44it/s]\n",
      "  0%|          | 0/62.5 [00:00<?, ?it/s]"
     ]
    },
    {
     "name": "stdout",
     "output_type": "stream",
     "text": [
      "Epoch: 76, Training Loss:   0.0181\n",
      "               Validation Loss: 0.0198\n",
      "Stale epoch\n"
     ]
    },
    {
     "name": "stderr",
     "output_type": "stream",
     "text": [
      "loss = 0.03101: : 63it [00:45,  1.40it/s]                        \n",
      "loss = 0.02649: 102%|██████████| 8/7.8125 [00:05<00:00,  1.44it/s]\n",
      "  0%|          | 0/62.5 [00:00<?, ?it/s]"
     ]
    },
    {
     "name": "stdout",
     "output_type": "stream",
     "text": [
      "Epoch: 77, Training Loss:   0.0198\n",
      "               Validation Loss: 0.0205\n",
      "Stale epoch\n"
     ]
    },
    {
     "name": "stderr",
     "output_type": "stream",
     "text": [
      "loss = 0.02139: : 63it [00:45,  1.40it/s]                        \n",
      "loss = 0.02250: 102%|██████████| 8/7.8125 [00:05<00:00,  1.44it/s]\n",
      "  0%|          | 0/62.5 [00:00<?, ?it/s]"
     ]
    },
    {
     "name": "stdout",
     "output_type": "stream",
     "text": [
      "Epoch: 78, Training Loss:   0.0178\n",
      "               Validation Loss: 0.0185\n",
      "Stale epoch\n"
     ]
    },
    {
     "name": "stderr",
     "output_type": "stream",
     "text": [
      "loss = 0.01356: : 63it [00:45,  1.40it/s]                        \n",
      "loss = 0.01874: 102%|██████████| 8/7.8125 [00:05<00:00,  1.43it/s]\n",
      "  0%|          | 0/62.5 [00:00<?, ?it/s]"
     ]
    },
    {
     "name": "stdout",
     "output_type": "stream",
     "text": [
      "Epoch: 79, Training Loss:   0.0173\n",
      "               Validation Loss: 0.0152\n",
      "New best model saved to: /home/jovyan/work/EnergyFlow/demos/DynamicEdgeNet.best.pth\n"
     ]
    },
    {
     "name": "stderr",
     "output_type": "stream",
     "text": [
      "loss = 0.01594: : 63it [00:45,  1.39it/s]                        \n",
      "loss = 0.01782: 102%|██████████| 8/7.8125 [00:05<00:00,  1.44it/s]\n",
      "  0%|          | 0/62.5 [00:00<?, ?it/s]"
     ]
    },
    {
     "name": "stdout",
     "output_type": "stream",
     "text": [
      "Epoch: 80, Training Loss:   0.0177\n",
      "               Validation Loss: 0.0149\n",
      "New best model saved to: /home/jovyan/work/EnergyFlow/demos/DynamicEdgeNet.best.pth\n"
     ]
    },
    {
     "name": "stderr",
     "output_type": "stream",
     "text": [
      "loss = 0.01221: : 63it [00:45,  1.40it/s]                        \n",
      "loss = 0.03223: 102%|██████████| 8/7.8125 [00:05<00:00,  1.43it/s]\n",
      "  0%|          | 0/62.5 [00:00<?, ?it/s]"
     ]
    },
    {
     "name": "stdout",
     "output_type": "stream",
     "text": [
      "Epoch: 81, Training Loss:   0.0162\n",
      "               Validation Loss: 0.0305\n",
      "Stale epoch\n"
     ]
    },
    {
     "name": "stderr",
     "output_type": "stream",
     "text": [
      "loss = 0.01594: : 63it [00:45,  1.39it/s]                        \n",
      "loss = 0.01716: 102%|██████████| 8/7.8125 [00:05<00:00,  1.43it/s]\n",
      "  0%|          | 0/62.5 [00:00<?, ?it/s]"
     ]
    },
    {
     "name": "stdout",
     "output_type": "stream",
     "text": [
      "Epoch: 82, Training Loss:   0.0189\n",
      "               Validation Loss: 0.0144\n",
      "New best model saved to: /home/jovyan/work/EnergyFlow/demos/DynamicEdgeNet.best.pth\n"
     ]
    },
    {
     "name": "stderr",
     "output_type": "stream",
     "text": [
      "loss = 0.01324: : 63it [00:44,  1.41it/s]                        \n",
      "loss = 0.01657: 102%|██████████| 8/7.8125 [00:05<00:00,  1.46it/s]\n",
      "  0%|          | 0/62.5 [00:00<?, ?it/s]"
     ]
    },
    {
     "name": "stdout",
     "output_type": "stream",
     "text": [
      "Epoch: 83, Training Loss:   0.0170\n",
      "               Validation Loss: 0.0146\n",
      "Stale epoch\n"
     ]
    },
    {
     "name": "stderr",
     "output_type": "stream",
     "text": [
      "loss = 0.02841: : 63it [00:44,  1.41it/s]                        \n",
      "loss = 0.01665: 102%|██████████| 8/7.8125 [00:05<00:00,  1.46it/s]\n",
      "  0%|          | 0/62.5 [00:00<?, ?it/s]"
     ]
    },
    {
     "name": "stdout",
     "output_type": "stream",
     "text": [
      "Epoch: 84, Training Loss:   0.0164\n",
      "               Validation Loss: 0.0158\n",
      "Stale epoch\n"
     ]
    },
    {
     "name": "stderr",
     "output_type": "stream",
     "text": [
      "loss = 0.02540: : 63it [00:44,  1.40it/s]                        \n",
      "loss = 0.01744: 102%|██████████| 8/7.8125 [00:05<00:00,  1.46it/s]\n",
      "  0%|          | 0/62.5 [00:00<?, ?it/s]"
     ]
    },
    {
     "name": "stdout",
     "output_type": "stream",
     "text": [
      "Epoch: 85, Training Loss:   0.0174\n",
      "               Validation Loss: 0.0147\n",
      "Stale epoch\n"
     ]
    },
    {
     "name": "stderr",
     "output_type": "stream",
     "text": [
      "loss = 0.01109: : 63it [00:44,  1.41it/s]                        \n",
      "loss = 0.01851: 102%|██████████| 8/7.8125 [00:05<00:00,  1.46it/s]\n",
      "  0%|          | 0/62.5 [00:00<?, ?it/s]"
     ]
    },
    {
     "name": "stdout",
     "output_type": "stream",
     "text": [
      "Epoch: 86, Training Loss:   0.0153\n",
      "               Validation Loss: 0.0180\n",
      "Stale epoch\n"
     ]
    },
    {
     "name": "stderr",
     "output_type": "stream",
     "text": [
      "loss = 0.01733: : 63it [00:44,  1.41it/s]                        \n",
      "loss = 0.02362: 102%|██████████| 8/7.8125 [00:05<00:00,  1.46it/s]\n",
      "  0%|          | 0/62.5 [00:00<?, ?it/s]"
     ]
    },
    {
     "name": "stdout",
     "output_type": "stream",
     "text": [
      "Epoch: 87, Training Loss:   0.0186\n",
      "               Validation Loss: 0.0177\n",
      "Stale epoch\n"
     ]
    },
    {
     "name": "stderr",
     "output_type": "stream",
     "text": [
      "loss = 0.01066: : 63it [00:44,  1.42it/s]                        \n",
      "loss = 0.01571: 102%|██████████| 8/7.8125 [00:05<00:00,  1.46it/s]\n",
      "  0%|          | 0/62.5 [00:00<?, ?it/s]"
     ]
    },
    {
     "name": "stdout",
     "output_type": "stream",
     "text": [
      "Epoch: 88, Training Loss:   0.0162\n",
      "               Validation Loss: 0.0136\n",
      "New best model saved to: /home/jovyan/work/EnergyFlow/demos/DynamicEdgeNet.best.pth\n"
     ]
    },
    {
     "name": "stderr",
     "output_type": "stream",
     "text": [
      "loss = 0.02813: : 63it [00:44,  1.41it/s]                        \n",
      "loss = 0.01769: 102%|██████████| 8/7.8125 [00:05<00:00,  1.46it/s]\n",
      "  0%|          | 0/62.5 [00:00<?, ?it/s]"
     ]
    },
    {
     "name": "stdout",
     "output_type": "stream",
     "text": [
      "Epoch: 89, Training Loss:   0.0154\n",
      "               Validation Loss: 0.0164\n",
      "Stale epoch\n"
     ]
    },
    {
     "name": "stderr",
     "output_type": "stream",
     "text": [
      "loss = 0.01691: : 63it [00:44,  1.41it/s]                        \n",
      "loss = 0.01641: 102%|██████████| 8/7.8125 [00:05<00:00,  1.47it/s]\n",
      "  0%|          | 0/62.5 [00:00<?, ?it/s]"
     ]
    },
    {
     "name": "stdout",
     "output_type": "stream",
     "text": [
      "Epoch: 90, Training Loss:   0.0155\n",
      "               Validation Loss: 0.0148\n",
      "Stale epoch\n"
     ]
    },
    {
     "name": "stderr",
     "output_type": "stream",
     "text": [
      "loss = 0.01184: : 63it [00:44,  1.42it/s]                        \n",
      "loss = 0.01551: 102%|██████████| 8/7.8125 [00:05<00:00,  1.46it/s]\n",
      "  0%|          | 0/62.5 [00:00<?, ?it/s]"
     ]
    },
    {
     "name": "stdout",
     "output_type": "stream",
     "text": [
      "Epoch: 91, Training Loss:   0.0158\n",
      "               Validation Loss: 0.0132\n",
      "New best model saved to: /home/jovyan/work/EnergyFlow/demos/DynamicEdgeNet.best.pth\n"
     ]
    },
    {
     "name": "stderr",
     "output_type": "stream",
     "text": [
      "loss = 0.01686:  69%|██████▉   | 43/62.5 [00:30<00:13,  1.40it/s]"
     ]
    }
   ],
   "source": [
    "import os.path as osp\n",
    "\n",
    "n_epochs = 100\n",
    "patience = 10\n",
    "stale_epochs = 0\n",
    "best_valid_loss = 99999\n",
    "for epoch in range(0, n_epochs):\n",
    "    loss = train(model, optimizer, train_loader, train_samples, batch_size)\n",
    "    valid_loss = test(model, valid_loader, valid_samples, batch_size)\n",
    "    print('Epoch: {:02d}, Training Loss:   {:.4f}'.format(epoch, loss))\n",
    "    print('               Validation Loss: {:.4f}'.format(valid_loss))\n",
    "\n",
    "    if valid_loss < best_valid_loss:\n",
    "        best_valid_loss = valid_loss\n",
    "        modpath = osp.join('/home/jovyan/work/EnergyFlow/demos/',model_fname+'.best.pth')\n",
    "        print('New best model saved to:',modpath)\n",
    "        torch.save(model.state_dict(),modpath)\n",
    "        stale_epochs = 0\n",
    "    else:\n",
    "        print('Stale epoch')\n",
    "        stale_epochs += 1\n",
    "    if stale_epochs >= patience:\n",
    "        print('Early stopping after %i stale epochs'%patience)\n",
    "        break"
   ]
  },
  {
   "cell_type": "code",
   "execution_count": null,
   "metadata": {},
   "outputs": [],
   "source": [
    "model.load_state_dict(torch.load(modpath))\n",
    "ys = []\n",
    "preds = []\n",
    "diffs = []\n",
    "\n",
    "from graph_data import ONE_HUNDRED_GEV\n",
    "\n",
    "t = tqdm.tqdm(enumerate(test_loader),total=test_samples/batch_size)\n",
    "for i, data in t:\n",
    "    data.to(device)\n",
    "    ys.append(data.y.cpu().numpy().squeeze()*ONE_HUNDRED_GEV)\n",
    "    preds.append(model(data).cpu().detach().numpy().squeeze()*ONE_HUNDRED_GEV)\n",
    "    \n",
    "ys = np.concatenate(ys)   \n",
    "preds = np.concatenate(preds)   \n",
    "diffs = (preds-ys)"
   ]
  },
  {
   "cell_type": "code",
   "execution_count": null,
   "metadata": {},
   "outputs": [],
   "source": [
    "fig, ax = plt.subplots(figsize =(5, 5)) \n",
    "plt.hist(ys, bins=np.linspace(0, 300, 101),label='True', alpha=0.5)\n",
    "plt.hist(preds, bins=np.linspace(0, 300, 101),label = 'Pred.', alpha=0.5)\n",
    "plt.legend()\n",
    "ax.set_xlabel('EMD [GeV]') \n",
    "\n",
    "fig, ax = plt.subplots(figsize =(5, 5)) \n",
    "plt.hist(diffs, bins=np.linspace(-200, 200, 101))\n",
    "ax.set_xlabel('EMD diff. [GeV]')  \n",
    "\n",
    "fig, ax = plt.subplots(figsize =(5, 5)) \n",
    "x_bins = np.linspace(0, 300, 101)\n",
    "y_bins = np.linspace(0, 300, 101)\n",
    "plt.hist2d(ys, preds, bins=[x_bins,y_bins])\n",
    "ax.set_xlabel('True EMD [GeV]')  \n",
    "ax.set_ylabel('Pred. EMD [GeV]')"
   ]
  },
  {
   "cell_type": "code",
   "execution_count": null,
   "metadata": {},
   "outputs": [],
   "source": []
  }
 ],
 "metadata": {
  "kernelspec": {
   "display_name": "Python 3",
   "language": "python",
   "name": "python3"
  },
  "language_info": {
   "codemirror_mode": {
    "name": "ipython",
    "version": 3
   },
   "file_extension": ".py",
   "mimetype": "text/x-python",
   "name": "python",
   "nbconvert_exporter": "python",
   "pygments_lexer": "ipython3",
   "version": "3.7.6"
  }
 },
 "nbformat": 4,
 "nbformat_minor": 2
}
